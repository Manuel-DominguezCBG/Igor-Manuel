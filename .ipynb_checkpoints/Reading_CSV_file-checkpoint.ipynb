{
 "cells": [
  {
   "cell_type": "markdown",
   "metadata": {},
   "source": [
    "# This is a draft"
   ]
  },
  {
   "cell_type": "code",
   "execution_count": 1,
   "metadata": {},
   "outputs": [],
   "source": [
    "import sys\n",
    "import os\n",
    "import requests\n",
    "import json\n",
    "import pandas as pd\n",
    "import myvariant\n"
   ]
  },
  {
   "cell_type": "code",
   "execution_count": 2,
   "metadata": {},
   "outputs": [],
   "source": [
    "# Input\n",
    "#user_input = input('Please input file PATH. ')\n",
    "CSV_input = '/Users/manolodominguez/Desktop/git-repos/STP_mini_projects/Igor-Manuel/csv_file.csv'\n",
    "\n",
    "# input to pd data frame\n",
    "df = pd.read_csv(CSV_input) \n",
    "\n",
    "# An extra copy will be neccesary for manipulation.\n",
    "df_draft = pd.read_csv(CSV_input) "
   ]
  },
  {
   "cell_type": "code",
   "execution_count": 3,
   "metadata": {},
   "outputs": [
    {
     "name": "stdout",
     "output_type": "stream",
     "text": [
      "{11: 'rs268', 56: 'rs56116432', 57: 'rs334'}\n",
      "{1: 'NPM1', 35: 'PIANP'}\n"
     ]
    }
   ],
   "source": [
    "##### This is just an example, we need to specify how many things \n",
    "##### are we go to check in the input.\n",
    "\n",
    "# Find Variant ID (rs000000) in CSV\n",
    "rs = df[df.apply(lambda x:x.str.contains(\"rs\"))].dropna(how='all').dropna(axis=1, how='all')\n",
    "\n",
    "# Find Variant ID (NM_0000000) in CSV\n",
    "NM = df[df.apply(lambda x:x.str.contains(\"NM\"))].dropna(how='all').dropna(axis=1, how='all')\n",
    "\n",
    "# Find Variant ID (NP_0000000) in CSV\n",
    "NP = df[df.apply(lambda x:x.str.contains(\"NP\"))].dropna(how='all').dropna(axis=1, how='all')\n",
    "\n",
    "# Find ClinVar field (RCV#) in CSV\n",
    "RCV = df[df.apply(lambda x:x.str.contains(\"RCV\"))].dropna(how='all').dropna(axis=1, how='all')\n",
    "\n",
    "# Save the found data in their respective dictionary\n",
    "\n",
    "if rs.empty == False:\n",
    "    ind = rs.index.to_list()\n",
    "    vals = list(rs.stack().values)\n",
    "    row2rs = dict(zip(ind, vals))\n",
    "    # To avoid repetitions, we should need to delete the row\n",
    "    # where a rs has been found.\n",
    "    print(row2rs)\n",
    "\n",
    "if NM.empty == False:\n",
    "    ind = NM.index.to_list()\n",
    "    vals = list(NM.stack().values)\n",
    "    row2NM = dict(zip(ind, vals))\n",
    "    print(row2NM)\n",
    "    \n",
    "if NP.empty == False:\n",
    "    ind = NP.index.to_list()\n",
    "    vals = list(NP.stack().values)\n",
    "    row2NP = dict(zip(ind, vals))\n",
    "    print(row2NP)\n",
    "    \n",
    "if RCV.empty == False:\n",
    "    ind = RCV.index.to_list()\n",
    "    vals = list(RCV.stack().values)\n",
    "    row2RCV = dict(zip(ind, vals))\n",
    "    print(row2RCV)\n",
    "\n",
    "\n",
    "#https://rest.ensembl.org/documentation/info/vep_hgvs_get"
   ]
  },
  {
   "cell_type": "code",
   "execution_count": 4,
   "metadata": {},
   "outputs": [],
   "source": [
    "# Ensemble REST API\n",
    "server = \"http://rest.ensembl.org\"\n",
    "\n",
    "#Empty dict\n",
    "rs2features ={}\n",
    "\n",
    "for index, rs  in row2rs.items(): \n",
    "    \n",
    "    # Rows where substring 'rs' has been found need to be delete to avoid repetition\n",
    "    # This will be done in df_draft\n",
    "    df_draft = df_draft.drop(index)\n",
    "    \n",
    "    # Request each rs found\n",
    "    ext = \"/variation/human/{}?\".format(rs)\n",
    "    r = requests.get(server+ext, headers={ \"Content-Type\" : \"application/json\"})\n",
    "    decoded = r.json()\n",
    "\n",
    "    # Dict of dict\n",
    "    rs2features[rs] = decoded\n",
    "# We need to filter this data. This data can be used to fill the ultimate VCF\n",
    "# Or can be used also to verify that the values of the CSV are ook\n",
    "# For example gene name or coodinates\n",
    "    \n",
    "# This step made here with variant ID must be made with ... "
   ]
  },
  {
   "cell_type": "code",
   "execution_count": 5,
   "metadata": {},
   "outputs": [],
   "source": [
    "# Another API I have found\n",
    "# https://docs.myvariant.info/en/latest/index.html#\n",
    "# It can read our CSV requesting position ID."
   ]
  },
  {
   "cell_type": "code",
   "execution_count": 6,
   "metadata": {},
   "outputs": [],
   "source": [
    "mv = myvariant.MyVariantInfo()"
   ]
  },
  {
   "cell_type": "code",
   "execution_count": 7,
   "metadata": {},
   "outputs": [
    {
     "data": {
      "text/plain": [
       "{'_id': 'chr17:g.7578532A>G',\n",
       " '_version': 4,\n",
       " 'clinvar': {'_license': 'http://bit.ly/2SQdcI0',\n",
       "  'allele_id': 27396,\n",
       "  'alt': 'G',\n",
       "  'chrom': '17',\n",
       "  'cytogenic': '17p13.1',\n",
       "  'gene': {'id': '7157', 'symbol': 'TP53'},\n",
       "  'hg19': {'end': 7578532, 'start': 7578532},\n",
       "  'hg38': {'end': 7675214, 'start': 7675214},\n",
       "  'hgvs': {'coding': ['LRG_321t1:c.398T>C',\n",
       "    'LRG_321t2:c.398T>C',\n",
       "    'LRG_321t3:c.398T>C',\n",
       "    'LRG_321t4:c.398T>C',\n",
       "    'LRG_321t5:c.2T>C',\n",
       "    'LRG_321t6:c.2T>C',\n",
       "    'LRG_321t7:c.2T>C',\n",
       "    'LRG_321t8:c.281T>C',\n",
       "    'NM_000546.5:c.398T>C',\n",
       "    'NM_001126112.2:c.398T>C',\n",
       "    'NM_001126113.2:c.398T>C',\n",
       "    'NM_001126114.2:c.398T>C',\n",
       "    'NM_001126115.1:c.2T>C',\n",
       "    'NM_001126116.1:c.2T>C',\n",
       "    'NM_001126117.1:c.2T>C',\n",
       "    'NM_001126118.1:c.281T>C',\n",
       "    'NM_001276695.2:c.281T>C',\n",
       "    'NM_001276696.2:c.281T>C',\n",
       "    'NM_001276697.2:c.-80T>C',\n",
       "    'NM_001276698.2:c.-80T>C',\n",
       "    'NM_001276699.2:c.-80T>C',\n",
       "    'NM_001276760.2:c.281T>C',\n",
       "    'NM_001276761.2:c.281T>C'],\n",
       "   'genomic': ['LRG_321:g.17337T>C',\n",
       "    'NC_000017.10:g.7578532A>G',\n",
       "    'NC_000017.11:g.7675214A>G',\n",
       "    'NG_017013.2:g.17337T>C']},\n",
       "  'omim': '191170.0011',\n",
       "  'rcv': [{'accession': 'RCV000013151',\n",
       "    'clinical_significance': 'Pathogenic',\n",
       "    'conditions': {'identifiers': {'gene': '553989',\n",
       "      'medgen': 'C1835398',\n",
       "      'mondo': 'MONDO:0007903',\n",
       "      'omim': '151623',\n",
       "      'orphanet': '524'},\n",
       "     'name': 'Li-Fraumeni syndrome 1 (LFS)',\n",
       "     'synonyms': ['Li-Fraumeni syndrome 3']},\n",
       "    'last_evaluated': '1999-01-01',\n",
       "    'number_submitters': 1,\n",
       "    'origin': 'germline',\n",
       "    'preferred_name': 'NM_000546.5(TP53):c.398T>C (p.Met133Thr)',\n",
       "    'review_status': 'no assertion criteria provided'},\n",
       "   {'accession': 'RCV000492130',\n",
       "    'clinical_significance': 'Pathogenic',\n",
       "    'conditions': {'identifiers': {'medgen': 'C0027672',\n",
       "      'mondo': 'MONDO:0015356'},\n",
       "     'name': 'Hereditary cancer-predisposing syndrome',\n",
       "     'synonyms': ['Neoplastic Syndromes, Hereditary',\n",
       "      'Tumor predisposition',\n",
       "      'Cancer predisposition']},\n",
       "    'last_evaluated': '2016-11-28',\n",
       "    'number_submitters': 1,\n",
       "    'origin': 'germline',\n",
       "    'preferred_name': 'NM_000546.5(TP53):c.398T>C (p.Met133Thr)',\n",
       "    'review_status': 'criteria provided, single submitter'}],\n",
       "  'ref': 'A',\n",
       "  'rsid': 'rs28934873',\n",
       "  'type': 'single nucleotide variant',\n",
       "  'variant_id': 12357}}"
      ]
     },
     "execution_count": 7,
     "metadata": {},
     "output_type": "execute_result"
    }
   ],
   "source": [
    "mv.getvariant('chr17:g.7578532A>G', fields = 'clinvar')"
   ]
  },
  {
   "cell_type": "code",
   "execution_count": null,
   "metadata": {},
   "outputs": [],
   "source": []
  }
 ],
 "metadata": {
  "kernelspec": {
   "display_name": "Python 3",
   "language": "python",
   "name": "python3"
  },
  "language_info": {
   "codemirror_mode": {
    "name": "ipython",
    "version": 3
   },
   "file_extension": ".py",
   "mimetype": "text/x-python",
   "name": "python",
   "nbconvert_exporter": "python",
   "pygments_lexer": "ipython3",
   "version": "3.8.3"
  }
 },
 "nbformat": 4,
 "nbformat_minor": 4
}
