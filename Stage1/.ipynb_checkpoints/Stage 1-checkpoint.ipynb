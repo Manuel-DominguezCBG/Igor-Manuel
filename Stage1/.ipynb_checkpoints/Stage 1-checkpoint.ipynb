{
 "cells": [
  {
   "cell_type": "markdown",
   "metadata": {},
   "source": [
    "# Stage 1\n",
    "****"
   ]
  },
  {
   "cell_type": "code",
   "execution_count": 1,
   "metadata": {},
   "outputs": [],
   "source": [
    "# This script is the first stage of the project CSV2VCF-converter\n",
    "\n",
    "# In this first stage, we pretend to write a code to be able to identify 4 types of ID variants from a CSV input.\n",
    "\n",
    "# The 4 types of ID variants are Transcript(:c.), RefSeq Gene (:g.),Protein1 (:p.) and Protein (:p.) \n",
    "\n",
    "# We have created 5 CSV files. One per type of ID plus a 5th that contain all types of ID.\n"
   ]
  },
  {
   "cell_type": "code",
   "execution_count": 1,
   "metadata": {},
   "outputs": [],
   "source": [
    "import sys\n",
    "import os\n",
    "import requests\n",
    "import chardet\n",
    "import json\n",
    "import pandas as pd\n",
    "import myvariant"
   ]
  },
  {
   "cell_type": "markdown",
   "metadata": {},
   "source": [
    "### To read input"
   ]
  },
  {
   "cell_type": "code",
   "execution_count": 2,
   "metadata": {},
   "outputs": [
    {
     "data": {
      "text/html": [
       "<div>\n",
       "<style scoped>\n",
       "    .dataframe tbody tr th:only-of-type {\n",
       "        vertical-align: middle;\n",
       "    }\n",
       "\n",
       "    .dataframe tbody tr th {\n",
       "        vertical-align: top;\n",
       "    }\n",
       "\n",
       "    .dataframe thead th {\n",
       "        text-align: right;\n",
       "    }\n",
       "</style>\n",
       "<table border=\"1\" class=\"dataframe\">\n",
       "  <thead>\n",
       "    <tr style=\"text-align: right;\">\n",
       "      <th></th>\n",
       "      <th>Gene</th>\n",
       "      <th>GRCh38 coordinates</th>\n",
       "      <th>Transcript</th>\n",
       "      <th>Quality</th>\n",
       "      <th>Filter</th>\n",
       "    </tr>\n",
       "  </thead>\n",
       "  <tbody>\n",
       "    <tr>\n",
       "      <th>0</th>\n",
       "      <td>IMPG2</td>\n",
       "      <td>3:101232831</td>\n",
       "      <td>NM_016247.3:c.3183C&gt;G</td>\n",
       "      <td>34/64</td>\n",
       "      <td>PASS</td>\n",
       "    </tr>\n",
       "    <tr>\n",
       "      <th>1</th>\n",
       "      <td>BRCA1</td>\n",
       "      <td>17:43067616</td>\n",
       "      <td>NM_007294.3:c.5066T&gt;C</td>\n",
       "      <td>49/131</td>\n",
       "      <td>PASS</td>\n",
       "    </tr>\n",
       "    <tr>\n",
       "      <th>2</th>\n",
       "      <td>FBN1</td>\n",
       "      <td>15:48600225</td>\n",
       "      <td>NM_000138.4:c.356G&gt;A</td>\n",
       "      <td>46/99</td>\n",
       "      <td>PASS</td>\n",
       "    </tr>\n",
       "    <tr>\n",
       "      <th>3</th>\n",
       "      <td>MYH7</td>\n",
       "      <td>14:23426833</td>\n",
       "      <td>NM_000257.3:c.1988G&gt;A</td>\n",
       "      <td>8/102</td>\n",
       "      <td>NO PASS</td>\n",
       "    </tr>\n",
       "    <tr>\n",
       "      <th>4</th>\n",
       "      <td>BORIS</td>\n",
       "      <td>9:133256042</td>\n",
       "      <td>rs56116432</td>\n",
       "      <td>1/200</td>\n",
       "      <td>NO PASS</td>\n",
       "    </tr>\n",
       "    <tr>\n",
       "      <th>5</th>\n",
       "      <td>BRCA1</td>\n",
       "      <td>77:43071077</td>\n",
       "      <td>rs1799966</td>\n",
       "      <td>14/85</td>\n",
       "      <td>PASS</td>\n",
       "    </tr>\n",
       "  </tbody>\n",
       "</table>\n",
       "</div>"
      ],
      "text/plain": [
       "    Gene GRCh38 coordinates             Transcript Quality   Filter\n",
       "0  IMPG2        3:101232831  NM_016247.3:c.3183C>G   34/64     PASS\n",
       "1  BRCA1        17:43067616  NM_007294.3:c.5066T>C  49/131     PASS\n",
       "2   FBN1        15:48600225   NM_000138.4:c.356G>A   46/99     PASS\n",
       "3   MYH7        14:23426833  NM_000257.3:c.1988G>A   8/102  NO PASS\n",
       "4  BORIS        9:133256042             rs56116432   1/200  NO PASS\n",
       "5  BRCA1        77:43071077              rs1799966   14/85     PASS"
      ]
     },
     "execution_count": 2,
     "metadata": {},
     "output_type": "execute_result"
    }
   ],
   "source": [
    "# To read input\n",
    "\n",
    "# This code is able to recognise the 4 type of ID variant mention above contained in a CSV file.\n",
    "\n",
    "CSV_input = '/Users/manolodominguez/Desktop/git-repos/STP_mini_projects/Igor-Manuel/Igor-Manuel/different_input/NM_.csv'\n",
    "\n",
    "\n",
    "# input to pd data frame\n",
    "\n",
    "# This is to avoid UnicodeDecodeError: 'utf-8'\n",
    "with open(CSV_input, 'rb') as f:\n",
    "    result = chardet.detect(f.read())\n",
    "\n",
    "\n",
    "df = pd.read_csv(CSV_input, encoding=result['encoding'])\n",
    "\n",
    "# We will need a extra copy to avoid repetitions\n",
    "df_draft = df\n",
    "\n",
    "df"
   ]
  },
  {
   "cell_type": "markdown",
   "metadata": {},
   "source": [
    "### Here we read and found what we want from the CSV\n"
   ]
  },
  {
   "cell_type": "code",
   "execution_count": 3,
   "metadata": {},
   "outputs": [],
   "source": [
    "##### Reading CSV file values and looking for variants IDs ######\n",
    "\n",
    "# Our programme recognise hgvs_notation (e.g AGT:c.803T>C and ENST00000003084:c.1431_1433delTTC) \n",
    "# and also dbSNP ID (e.g rs17289390)\n",
    "\n",
    "\n",
    "# Find Variant Transcript ':c.' in CSV\n",
    "Transcript = df_draft[df_draft.apply(lambda x:x.str.contains(\":c.\"))].dropna(how='all').dropna(axis=1, how='all')\n",
    "\n",
    "# Now, we save the results found in a dict key=index and value=variand ID\n",
    "if Transcript.empty == False:\n",
    "    ind = Transcript.index.to_list()\n",
    "    vals = list(Transcript.stack().values)\n",
    "    row2Transcript = dict(zip(ind, vals))\n",
    "    # We need to remove the row where rs has been found to avoid repetitions\n",
    "    # In case in same row more than one kind of ID Variant is stored ('e.g :c.' and '(:p.)')   \n",
    "    for index, Transcript  in row2Transcript.items(): \n",
    "        # This will be done in df_draft\n",
    "        df_draft = df_draft.drop(index)\n",
    "        \n",
    "# Same but now with dbSNP variant ID\n",
    "rs = df[df.apply(lambda x:x.str.contains(\"rs\\d+\"))].dropna(how='all').dropna(axis=1, how='all')\n",
    "\n",
    "#rs = df_draft[df_draft.apply(lambda x:x.str.contains(\"rs\"))].dropna(how='all').dropna(axis=1, how='all')\n",
    "\n",
    "# Now, we save the results found in a dict key=index and value=variand ID\n",
    "if rs.empty == False:\n",
    "    ind = rs.index.to_list()\n",
    "    vals = list(rs.stack().values)\n",
    "    row2rs = dict(zip(ind, vals))\n",
    "    # We need to remove the row where rs has been found to avoid repetitions\n",
    "    # In case in same row more than one kind of ID Variant is stored ('e.g :c.' and '(:p.)')   \n",
    "    for index, rs  in row2rs.items(): \n",
    "        # This will be done in df_draft\n",
    "        df_draft = df_draft.drop(index)\n",
    "\n"
   ]
  },
  {
   "cell_type": "markdown",
   "metadata": {},
   "source": [
    "### Let's see if last code worked"
   ]
  },
  {
   "cell_type": "code",
   "execution_count": 7,
   "metadata": {},
   "outputs": [
    {
     "data": {
      "text/plain": [
       "{4: 'rs56116432', 5: 'rs1799966'}"
      ]
     },
     "execution_count": 7,
     "metadata": {},
     "output_type": "execute_result"
    }
   ],
   "source": [
    "row2rs"
   ]
  },
  {
   "cell_type": "code",
   "execution_count": 8,
   "metadata": {},
   "outputs": [
    {
     "data": {
      "text/plain": [
       "{0: 'NM_016247.3:c.3183C>G',\n",
       " 1: 'NM_007294.3:c.5066T>C',\n",
       " 2: 'NM_000138.4:c.356G>A',\n",
       " 3: 'NM_000257.3:c.1988G>A'}"
      ]
     },
     "execution_count": 8,
     "metadata": {},
     "output_type": "execute_result"
    }
   ],
   "source": [
    "row2Transcript"
   ]
  },
  {
   "cell_type": "markdown",
   "metadata": {},
   "source": [
    "### Now, the request API"
   ]
  },
  {
   "cell_type": "code",
   "execution_count": 27,
   "metadata": {},
   "outputs": [],
   "source": [
    "row2gene_symbol = dict()\n",
    "row2start = dict()\n",
    "server = 'https://rest.ensembl.org/vep/human/hgvs/'\n",
    "\n",
    "for row, transcript in row2Transcript.items():\n",
    "\n",
    "    r = requests.get(server+transcript, headers={ \"Content-Type\" : \"application/json\"})\n",
    "    if not r.ok:\n",
    "        r.raise_for_status()\n",
    "        sys.exit()\n",
    "    decoded = r.json()[0]\n",
    "    index2gene_symbol[row]=decoded['end']\n",
    "    index2start[row]=decoded['start']\n"
   ]
  },
  {
   "cell_type": "code",
   "execution_count": 29,
   "metadata": {},
   "outputs": [],
   "source": [
    "server = 'https://rest.ensembl.org/vep/human/hgvs/'\n",
    "\n",
    "for row, transcript in row2Transcript.items():\n",
    "\n",
    "    r = requests.get(server+transcript, headers={ \"Content-Type\" : \"application/json\"})\n",
    "    if not r.ok:\n",
    "        r.raise_for_status()\n",
    "        sys.exit()\n",
    "    decoded = r.json()[0]\n",
    "    s=str(decoded)\n",
    "    s2=s[s.find(\"'gene_symbol'\")+13:] #13 is the length of \"'gene_symbol'\"\n",
    "    s3=s2[s2.find(\"'\")+1:]\n",
    "    res=s3[:s3.find(\"',\")]\n",
    "    index2gene_symbol[row]= res"
   ]
  },
  {
   "cell_type": "code",
   "execution_count": 30,
   "metadata": {},
   "outputs": [
    {
     "data": {
      "text/plain": [
       "{0: 'IMPG2', 1: 'BRCA1', 2: 'FBN1', 3: 'MYH7'}"
      ]
     },
     "execution_count": 30,
     "metadata": {},
     "output_type": "execute_result"
    }
   ],
   "source": [
    "index2gene_symbol"
   ]
  },
  {
   "cell_type": "code",
   "execution_count": 42,
   "metadata": {},
   "outputs": [
    {
     "ename": "KeyError",
     "evalue": "'gene_symbol'",
     "output_type": "error",
     "traceback": [
      "\u001b[0;31m---------------------------------------------------------------------------\u001b[0m",
      "\u001b[0;31mKeyError\u001b[0m                                  Traceback (most recent call last)",
      "\u001b[0;32m<ipython-input-42-6e11d2e28f49>\u001b[0m in \u001b[0;36m<module>\u001b[0;34m\u001b[0m\n\u001b[1;32m      1\u001b[0m \u001b[0;32mfrom\u001b[0m \u001b[0moperator\u001b[0m \u001b[0;32mimport\u001b[0m \u001b[0mitemgetter\u001b[0m\u001b[0;34m\u001b[0m\u001b[0;34m\u001b[0m\u001b[0m\n\u001b[0;32m----> 2\u001b[0;31m \u001b[0mres\u001b[0m \u001b[0;34m=\u001b[0m \u001b[0mlist\u001b[0m\u001b[0;34m(\u001b[0m\u001b[0mmap\u001b[0m\u001b[0;34m(\u001b[0m\u001b[0mitemgetter\u001b[0m\u001b[0;34m(\u001b[0m\u001b[0;34m'gene_symbol'\u001b[0m\u001b[0;34m)\u001b[0m\u001b[0;34m,\u001b[0m \u001b[0mdecoded\u001b[0m\u001b[0;34m)\u001b[0m\u001b[0;34m)\u001b[0m\u001b[0;34m\u001b[0m\u001b[0;34m\u001b[0m\u001b[0m\n\u001b[0m",
      "\u001b[0;31mKeyError\u001b[0m: 'gene_symbol'"
     ]
    }
   ],
   "source": [
    "from operator import itemgetter\n",
    "res = list(map(itemgetter('gene_symbol'), decoded))"
   ]
  },
  {
   "cell_type": "code",
   "execution_count": 12,
   "metadata": {},
   "outputs": [
    {
     "data": {
      "text/plain": [
       "{'start': 23426833,\n",
       " 'strand': -1,\n",
       " 'input': 'NM_000257.3:c.1988G>A',\n",
       " 'colocated_variants': [{'strand': 1,\n",
       "   'start': 23426833,\n",
       "   'phenotype_or_disease': 1,\n",
       "   'seq_region_name': '14',\n",
       "   'id': 'CM993620',\n",
       "   'allele_string': 'HGMD_MUTATION',\n",
       "   'end': 23426833},\n",
       "  {'strand': 1,\n",
       "   'start': 23426833,\n",
       "   'clin_sig_allele': 'T:pathogenic/likely_pathogenic;T:pathogenic',\n",
       "   'allele_string': 'C/T',\n",
       "   'end': 23426833,\n",
       "   'phenotype_or_disease': 1,\n",
       "   'var_synonyms': 'ClinVar::RCV000158822,RCV000162333,RCV000168409,VCV000042875,RCV000035758,RCV000253409,RCV000477919,RCV000762924,RCV000678721,RCV001170503--PhenCode::FHC0137--Uniprot::VAR_019855',\n",
       "   'id': 'rs371898076',\n",
       "   'frequencies': {'A': {'gnomad_sas': 0,\n",
       "     'gnomad_nfe': 1.758e-05,\n",
       "     'aa': 0,\n",
       "     'gnomad_eas': 0,\n",
       "     'gnomad_oth': 0,\n",
       "     'gnomad': 7.953e-06,\n",
       "     'gnomad_afr': 0,\n",
       "     'gnomad_amr': 0,\n",
       "     'ea': 0.0001163,\n",
       "     'gnomad_fin': 0,\n",
       "     'gnomad_asj': 0}},\n",
       "   'seq_region_name': '14',\n",
       "   'pubmed': [24033266,\n",
       "    18414213,\n",
       "    12707239,\n",
       "    23283745,\n",
       "    18403758,\n",
       "    23299917,\n",
       "    15563892,\n",
       "    15358028,\n",
       "    16199542,\n",
       "    11133230,\n",
       "    17125710,\n",
       "    24093860,\n",
       "    21959974,\n",
       "    10750581,\n",
       "    12820698,\n",
       "    18374998,\n",
       "    18383048,\n",
       "    23290139,\n",
       "    25132132],\n",
       "   'clin_sig': ['likely_pathogenic', 'pathogenic']}],\n",
       " 'transcript_consequences': [{'gene_symbol_source': 'HGNC',\n",
       "   'gene_symbol': 'MYH7',\n",
       "   'biotype': 'protein_coding',\n",
       "   'protein_end': 663,\n",
       "   'cds_start': 1988,\n",
       "   'polyphen_prediction': 'possibly_damaging',\n",
       "   'cdna_start': 2093,\n",
       "   'cdna_end': 2093,\n",
       "   'cds_end': 1988,\n",
       "   'consequence_terms': ['missense_variant'],\n",
       "   'strand': -1,\n",
       "   'codons': 'cGc/cAc',\n",
       "   'gene_id': 'ENSG00000092054',\n",
       "   'impact': 'MODERATE',\n",
       "   'hgnc_id': 'HGNC:7577',\n",
       "   'transcript_id': 'ENST00000355349',\n",
       "   'variant_allele': 'A',\n",
       "   'protein_start': 663,\n",
       "   'amino_acids': 'R/H',\n",
       "   'polyphen_score': 0.782,\n",
       "   'sift_score': 0.06,\n",
       "   'sift_prediction': 'tolerated'}],\n",
       " 'most_severe_consequence': 'missense_variant',\n",
       " 'end': 23426833,\n",
       " 'allele_string': 'G/A',\n",
       " 'id': 'NM_000257.3:c.1988G>A',\n",
       " 'assembly_name': 'GRCh38',\n",
       " 'seq_region_name': '14'}"
      ]
     },
     "execution_count": 12,
     "metadata": {},
     "output_type": "execute_result"
    }
   ],
   "source": [
    "decoded"
   ]
  },
  {
   "cell_type": "code",
   "execution_count": 19,
   "metadata": {},
   "outputs": [
    {
     "data": {
      "text/plain": [
       "101232831"
      ]
     },
     "execution_count": 19,
     "metadata": {},
     "output_type": "execute_result"
    }
   ],
   "source": [
    "\n",
    "decoded['start']"
   ]
  },
  {
   "cell_type": "code",
   "execution_count": 43,
   "metadata": {},
   "outputs": [
    {
     "data": {
      "text/plain": [
       "1"
      ]
     },
     "execution_count": 43,
     "metadata": {},
     "output_type": "execute_result"
    }
   ],
   "source": [
    "len(decoded)"
   ]
  },
  {
   "cell_type": "code",
   "execution_count": null,
   "metadata": {},
   "outputs": [],
   "source": []
  }
 ],
 "metadata": {
  "kernelspec": {
   "display_name": "Python 3",
   "language": "python",
   "name": "python3"
  },
  "language_info": {
   "codemirror_mode": {
    "name": "ipython",
    "version": 3
   },
   "file_extension": ".py",
   "mimetype": "text/x-python",
   "name": "python",
   "nbconvert_exporter": "python",
   "pygments_lexer": "ipython3",
   "version": "3.8.3"
  }
 },
 "nbformat": 4,
 "nbformat_minor": 4
}
