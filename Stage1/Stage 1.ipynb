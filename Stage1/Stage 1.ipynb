{
 "cells": [
  {
   "cell_type": "markdown",
   "metadata": {},
   "source": [
    "# Stage 1\n",
    "****"
   ]
  },
  {
   "cell_type": "code",
   "execution_count": 36,
   "metadata": {},
   "outputs": [],
   "source": [
    "# This script is the first stage of the project CSV2VCF-converter\n",
    "\n",
    "# In this first stage, we pretend to write a code to be able to identify \n",
    "# different types of ID variants from a CSV input.\n",
    "\n",
    "# Then, obtain data using this ID in a Request API\n",
    "\n",
    "# Finally, generate an df with the data neccesary to write a VCF file.\n",
    "\n"
   ]
  },
  {
   "cell_type": "code",
   "execution_count": 1,
   "metadata": {},
   "outputs": [],
   "source": [
    "import sys\n",
    "import os\n",
    "import requests\n",
    "import chardet\n",
    "import json\n",
    "import pandas as pd\n",
    "import numpy as np\n",
    "import os.path"
   ]
  },
  {
   "cell_type": "markdown",
   "metadata": {},
   "source": [
    "### To read input"
   ]
  },
  {
   "cell_type": "code",
   "execution_count": 136,
   "metadata": {},
   "outputs": [
    {
     "name": "stdout",
     "output_type": "stream",
     "text": [
      " The row 4 and 5th contain errors\n"
     ]
    },
    {
     "data": {
      "text/html": [
       "<div>\n",
       "<style scoped>\n",
       "    .dataframe tbody tr th:only-of-type {\n",
       "        vertical-align: middle;\n",
       "    }\n",
       "\n",
       "    .dataframe tbody tr th {\n",
       "        vertical-align: top;\n",
       "    }\n",
       "\n",
       "    .dataframe thead th {\n",
       "        text-align: right;\n",
       "    }\n",
       "</style>\n",
       "<table border=\"1\" class=\"dataframe\">\n",
       "  <thead>\n",
       "    <tr style=\"text-align: right;\">\n",
       "      <th></th>\n",
       "      <th>Gene</th>\n",
       "      <th>GRCh38 coordinates</th>\n",
       "      <th>Transcript</th>\n",
       "      <th>Quality</th>\n",
       "      <th>Filter</th>\n",
       "    </tr>\n",
       "  </thead>\n",
       "  <tbody>\n",
       "    <tr>\n",
       "      <th>0</th>\n",
       "      <td>IMPG2</td>\n",
       "      <td>3:101232831</td>\n",
       "      <td>NM_016247.3:c.3183C&gt;G</td>\n",
       "      <td>34/64</td>\n",
       "      <td>PASS</td>\n",
       "    </tr>\n",
       "    <tr>\n",
       "      <th>1</th>\n",
       "      <td>BRCA1</td>\n",
       "      <td>17:43067616</td>\n",
       "      <td>NM_007294.3:c.5066T&gt;C</td>\n",
       "      <td>49/131</td>\n",
       "      <td>PASS</td>\n",
       "    </tr>\n",
       "    <tr>\n",
       "      <th>2</th>\n",
       "      <td>FBN1</td>\n",
       "      <td>15:48600225</td>\n",
       "      <td>NM_000138.4:c.356G&gt;A</td>\n",
       "      <td>46/99</td>\n",
       "      <td>PASS</td>\n",
       "    </tr>\n",
       "    <tr>\n",
       "      <th>3</th>\n",
       "      <td>MYH7</td>\n",
       "      <td>14:23426833</td>\n",
       "      <td>NM_000257.3:c.1988G&gt;A</td>\n",
       "      <td>8/102</td>\n",
       "      <td>NO PASS</td>\n",
       "    </tr>\n",
       "    <tr>\n",
       "      <th>4</th>\n",
       "      <td>BORIS</td>\n",
       "      <td>9:133256042</td>\n",
       "      <td>rs56116432</td>\n",
       "      <td>1/200</td>\n",
       "      <td>NO PASS</td>\n",
       "    </tr>\n",
       "    <tr>\n",
       "      <th>5</th>\n",
       "      <td>BRCA1</td>\n",
       "      <td>77:43071077</td>\n",
       "      <td>rs1799966</td>\n",
       "      <td>14/85</td>\n",
       "      <td>PASS</td>\n",
       "    </tr>\n",
       "  </tbody>\n",
       "</table>\n",
       "</div>"
      ],
      "text/plain": [
       "    Gene GRCh38 coordinates             Transcript Quality   Filter\n",
       "0  IMPG2        3:101232831  NM_016247.3:c.3183C>G   34/64     PASS\n",
       "1  BRCA1        17:43067616  NM_007294.3:c.5066T>C  49/131     PASS\n",
       "2   FBN1        15:48600225   NM_000138.4:c.356G>A   46/99     PASS\n",
       "3   MYH7        14:23426833  NM_000257.3:c.1988G>A   8/102  NO PASS\n",
       "4  BORIS        9:133256042             rs56116432   1/200  NO PASS\n",
       "5  BRCA1        77:43071077              rs1799966   14/85     PASS"
      ]
     },
     "execution_count": 136,
     "metadata": {},
     "output_type": "execute_result"
    }
   ],
   "source": [
    "# To read input\n",
    "\n",
    "# This code is able to recognise the 4 type of ID variant mention above contained in a CSV file.\n",
    "\n",
    "CSV_input = '/Users/manolodominguez/Desktop/git-repos/STP_mini_projects/Igor-Manuel/Igor-Manuel/different_input/NM_.csv'\n",
    "\n",
    "## The row 4 and 5th contain errors\n",
    "\n",
    "# input to pd data frame\n",
    "\n",
    "# This is to avoid UnicodeDecodeError: 'utf-8'\n",
    "with open(CSV_input, 'rb') as f:\n",
    "    result = chardet.detect(f.read())\n",
    "\n",
    "# This not work 100% of the times. To avoid UnicodeDecodeError: 'utf-8'\n",
    "# We strongly recommend that the input be .csv\n",
    "\n",
    "df = pd.read_csv(CSV_input, encoding=result['encoding'])\n",
    "\n",
    "# We will need a extra copy to avoid repetitions\n",
    "df_draft = df\n",
    "\n",
    "print(' The row 4 and 5th contain errors')\n",
    "\n",
    "df"
   ]
  },
  {
   "cell_type": "markdown",
   "metadata": {},
   "source": [
    "### Here we read and found what we want from the CSV\n"
   ]
  },
  {
   "cell_type": "code",
   "execution_count": 137,
   "metadata": {},
   "outputs": [
    {
     "name": "stdout",
     "output_type": "stream",
     "text": [
      "Is the DataFrame empty?  True\n"
     ]
    }
   ],
   "source": [
    "##### Reading CSV file values and looking for variants IDs ######\n",
    "\n",
    "# Our programme recognise hgvs_notation (e.g AGT:c.803T>C and ENST00000003084:c.1431_1433delTTC) \n",
    "# and also dbSNP ID (e.g rs17289390)\n",
    "\n",
    "\n",
    "# Find Variant Transcript ':c.' in CSV\n",
    "Transcript = df_draft[df_draft.apply(lambda x:x.str.contains(\":c.\"))].dropna(how='all').dropna(axis=1, how='all')\n",
    "\n",
    "# Now, we save the results found in a dict key=index and value=variand ID\n",
    "if Transcript.empty == False:\n",
    "    ind = Transcript.index.to_list()\n",
    "    vals = list(Transcript.stack().values)\n",
    "    row2Transcript = dict(zip(ind, vals))\n",
    "    # We need to remove the row where rs has been found to avoid repetitions\n",
    "    # In case in same row more than one kind of ID Variant is stored ('e.g :c.' and '(:p.)')   \n",
    "    for index, Transcript  in row2Transcript.items(): \n",
    "        # This will be done in df_draft\n",
    "        df_draft = df_draft.drop(index)\n",
    "        \n",
    "# Same but now with dbSNP variant ID\n",
    "rs = df[df.apply(lambda x:x.str.contains(\"rs\\d+\"))].dropna(how='all').dropna(axis=1, how='all')\n",
    "\n",
    "#rs = df_draft[df_draft.apply(lambda x:x.str.contains(\"rs\"))].dropna(how='all').dropna(axis=1, how='all')\n",
    "\n",
    "# Now, we save the results found in a dict key=index and value=variand ID\n",
    "if rs.empty == False:\n",
    "    ind = rs.index.to_list()\n",
    "    vals = list(rs.stack().values)\n",
    "    row2rs = dict(zip(ind, vals))\n",
    "    # We need to remove the row where rs has been found to avoid repetitions\n",
    "    # In case in same row more than one kind of ID Variant is stored ('e.g :c.' and '(:p.)')   \n",
    "    for index, rs  in row2rs.items(): \n",
    "        # This will be done in df_draft\n",
    "        df_draft = df_draft.drop(index)\n",
    "\n",
    "\n",
    "        \n",
    "# df_draft empty means every row contained a rs or :c. ID\n",
    "print('Is the DataFrame empty? ', df_draft.empty)"
   ]
  },
  {
   "cell_type": "markdown",
   "metadata": {},
   "source": [
    "### Let's see if last code worked"
   ]
  },
  {
   "cell_type": "code",
   "execution_count": 138,
   "metadata": {},
   "outputs": [
    {
     "data": {
      "text/plain": [
       "{4: 'rs56116432', 5: 'rs1799966'}"
      ]
     },
     "execution_count": 138,
     "metadata": {},
     "output_type": "execute_result"
    }
   ],
   "source": [
    "row2rs"
   ]
  },
  {
   "cell_type": "code",
   "execution_count": 139,
   "metadata": {},
   "outputs": [
    {
     "data": {
      "text/plain": [
       "{0: 'NM_016247.3:c.3183C>G',\n",
       " 1: 'NM_007294.3:c.5066T>C',\n",
       " 2: 'NM_000138.4:c.356G>A',\n",
       " 3: 'NM_000257.3:c.1988G>A'}"
      ]
     },
     "execution_count": 139,
     "metadata": {},
     "output_type": "execute_result"
    }
   ],
   "source": [
    "row2Transcript"
   ]
  },
  {
   "cell_type": "markdown",
   "metadata": {},
   "source": [
    "### Now, the request API"
   ]
  },
  {
   "cell_type": "code",
   "execution_count": 140,
   "metadata": {},
   "outputs": [],
   "source": [
    "row2gene_symbol = dict()\n",
    "row2CHROM = dict()\n",
    "row2POS = dict()\n",
    "row2ALT = dict()\n",
    "row2REF = dict()\n",
    "\n",
    "\n",
    "server = 'https://rest.ensembl.org/vep/human/hgvs/'\n",
    "\n",
    "for row, transcript in row2Transcript.items():\n",
    "\n",
    "    r = requests.get(server+transcript, headers={ \"Content-Type\" : \"application/json\"})\n",
    "    if not r.ok:\n",
    "        r.raise_for_status()\n",
    "        sys.exit()\n",
    "    decoded = r.json()[0]\n",
    "    \n",
    "# For row2gene_symbol\n",
    "    row2gene_symbol[row]= decoded[\"transcript_consequences\"][0]['gene_symbol']\n",
    "\n",
    "# For row2CHROM\n",
    "    row2CHROM[row] = decoded[\"seq_region_name\"]\n",
    "    \n",
    "# For row2POS \n",
    "    row2POS[row] = decoded[\"start\"]\n",
    "    \n",
    "# For row2ALT \n",
    "    row2ALT[row] = decoded[\"transcript_consequences\"][0]['variant_allele']\n",
    "\n",
    "# For row2REF\n",
    "    row2REF[row] = decoded['allele_string'][0]\n",
    "    \n",
    "########################################################################    \n",
    "# Here is where we need to put some exception if variant ID is unknown #\n",
    "########################################################################"
   ]
  },
  {
   "cell_type": "markdown",
   "metadata": {},
   "source": [
    "#### Let's see if the ditc work"
   ]
  },
  {
   "cell_type": "code",
   "execution_count": 141,
   "metadata": {},
   "outputs": [
    {
     "data": {
      "text/plain": [
       "{0: 'IMPG2', 1: 'BRCA1', 2: 'FBN1', 3: 'MYH7'}"
      ]
     },
     "execution_count": 141,
     "metadata": {},
     "output_type": "execute_result"
    }
   ],
   "source": [
    "row2gene_symbol"
   ]
  },
  {
   "cell_type": "code",
   "execution_count": 142,
   "metadata": {},
   "outputs": [
    {
     "data": {
      "text/plain": [
       "{0: '3', 1: '17', 2: '15', 3: '14'}"
      ]
     },
     "execution_count": 142,
     "metadata": {},
     "output_type": "execute_result"
    }
   ],
   "source": [
    "row2CHROM"
   ]
  },
  {
   "cell_type": "code",
   "execution_count": 143,
   "metadata": {},
   "outputs": [
    {
     "data": {
      "text/plain": [
       "{0: 101232831, 1: 43067616, 2: 48600225, 3: 23426833}"
      ]
     },
     "execution_count": 143,
     "metadata": {},
     "output_type": "execute_result"
    }
   ],
   "source": [
    "row2POS"
   ]
  },
  {
   "cell_type": "code",
   "execution_count": 144,
   "metadata": {},
   "outputs": [
    {
     "data": {
      "text/plain": [
       "{0: 'G', 1: 'C', 2: 'A', 3: 'A'}"
      ]
     },
     "execution_count": 144,
     "metadata": {},
     "output_type": "execute_result"
    }
   ],
   "source": [
    "row2ALT"
   ]
  },
  {
   "cell_type": "code",
   "execution_count": 145,
   "metadata": {},
   "outputs": [
    {
     "data": {
      "text/plain": [
       "{0: 'C', 1: 'T', 2: 'G', 3: 'G'}"
      ]
     },
     "execution_count": 145,
     "metadata": {},
     "output_type": "execute_result"
    }
   ],
   "source": [
    "row2REF"
   ]
  },
  {
   "cell_type": "code",
   "execution_count": 146,
   "metadata": {},
   "outputs": [],
   "source": [
    "# Now, we need to do the same with row2rs\n",
    "\n",
    "server = \"https://rest.ensembl.org/vep/human/id/\"\n",
    "\n",
    "interrogation = '?'\n",
    "\n",
    "for row, rs in row2rs.items():\n",
    "\n",
    "    r = requests.get(server+rs+interrogation, headers={ \"Content-Type\" : \"application/json\"})\n",
    "    if not r.ok:\n",
    "        r.raise_for_status()\n",
    "        sys.exit()\n",
    "    decoded = r.json()[0]\n",
    "    \n",
    "    \n",
    "# For row2gene_symbol\n",
    "    row2gene_symbol[row]= decoded['transcript_consequences'][0]['gene_symbol']\n",
    "\n",
    "# For row2CHROM\n",
    "    row2CHROM[row] = decoded['seq_region_name']\n",
    "    \n",
    "# For row2POS \n",
    "    row2POS[row] = decoded['start']\n",
    "    \n",
    "# For row2ALT \n",
    "    row2ALT[row] = decoded['transcript_consequences'][0]['variant_allele']\n",
    "\n",
    "# For row2REF\n",
    "    row2REF[row] = decoded['allele_string'][0]\n",
    "    \n"
   ]
  },
  {
   "cell_type": "code",
   "execution_count": 147,
   "metadata": {},
   "outputs": [
    {
     "data": {
      "text/plain": [
       "{0: 'IMPG2', 1: 'BRCA1', 2: 'FBN1', 3: 'MYH7', 4: 'ABO', 5: 'BRCA1'}"
      ]
     },
     "execution_count": 147,
     "metadata": {},
     "output_type": "execute_result"
    }
   ],
   "source": [
    "row2gene_symbol"
   ]
  },
  {
   "cell_type": "code",
   "execution_count": 148,
   "metadata": {},
   "outputs": [
    {
     "data": {
      "text/plain": [
       "{0: '3', 1: '17', 2: '15', 3: '14', 4: '9', 5: '17'}"
      ]
     },
     "execution_count": 148,
     "metadata": {},
     "output_type": "execute_result"
    }
   ],
   "source": [
    "row2CHROM"
   ]
  },
  {
   "cell_type": "code",
   "execution_count": 149,
   "metadata": {},
   "outputs": [
    {
     "data": {
      "text/plain": [
       "{0: 101232831,\n",
       " 1: 43067616,\n",
       " 2: 48600225,\n",
       " 3: 23426833,\n",
       " 4: 133256042,\n",
       " 5: 43071077}"
      ]
     },
     "execution_count": 149,
     "metadata": {},
     "output_type": "execute_result"
    }
   ],
   "source": [
    "row2POS"
   ]
  },
  {
   "cell_type": "code",
   "execution_count": 150,
   "metadata": {},
   "outputs": [
    {
     "data": {
      "text/plain": [
       "{0: 'G', 1: 'C', 2: 'A', 3: 'A', 4: 'T', 5: 'A'}"
      ]
     },
     "execution_count": 150,
     "metadata": {},
     "output_type": "execute_result"
    }
   ],
   "source": [
    "row2ALT"
   ]
  },
  {
   "cell_type": "code",
   "execution_count": 151,
   "metadata": {},
   "outputs": [
    {
     "data": {
      "text/plain": [
       "{0: 'C', 1: 'T', 2: 'G', 3: 'G', 4: 'C', 5: 'T'}"
      ]
     },
     "execution_count": 151,
     "metadata": {},
     "output_type": "execute_result"
    }
   ],
   "source": [
    "row2REF"
   ]
  },
  {
   "cell_type": "markdown",
   "metadata": {},
   "source": [
    "#### This looks ok"
   ]
  },
  {
   "cell_type": "code",
   "execution_count": 152,
   "metadata": {},
   "outputs": [],
   "source": [
    "# To finish this stage, \n",
    "# Let's save our dicts in a df\n",
    "\n",
    "column_names = [\"Gene_API\", 'CHROM','POS','ID','REF','ALT','QUAL','FILTER','INFO']\n",
    "df_stage1 = pd.DataFrame(columns = column_names)"
   ]
  },
  {
   "cell_type": "code",
   "execution_count": 153,
   "metadata": {},
   "outputs": [
    {
     "data": {
      "text/html": [
       "<div>\n",
       "<style scoped>\n",
       "    .dataframe tbody tr th:only-of-type {\n",
       "        vertical-align: middle;\n",
       "    }\n",
       "\n",
       "    .dataframe tbody tr th {\n",
       "        vertical-align: top;\n",
       "    }\n",
       "\n",
       "    .dataframe thead th {\n",
       "        text-align: right;\n",
       "    }\n",
       "</style>\n",
       "<table border=\"1\" class=\"dataframe\">\n",
       "  <thead>\n",
       "    <tr style=\"text-align: right;\">\n",
       "      <th></th>\n",
       "      <th>Gene_API</th>\n",
       "      <th>CHROM</th>\n",
       "      <th>POS</th>\n",
       "      <th>ID</th>\n",
       "      <th>REF</th>\n",
       "      <th>ALT</th>\n",
       "      <th>QUAL</th>\n",
       "      <th>FILTER</th>\n",
       "    </tr>\n",
       "  </thead>\n",
       "  <tbody>\n",
       "    <tr>\n",
       "      <th>0</th>\n",
       "      <td>IMPG2</td>\n",
       "      <td>3</td>\n",
       "      <td>101232831</td>\n",
       "      <td>NM_016247.3:c.3183C&gt;G</td>\n",
       "      <td>G</td>\n",
       "      <td>C</td>\n",
       "      <td>34/64</td>\n",
       "      <td>PASS</td>\n",
       "    </tr>\n",
       "    <tr>\n",
       "      <th>1</th>\n",
       "      <td>BRCA1</td>\n",
       "      <td>17</td>\n",
       "      <td>43067616</td>\n",
       "      <td>NM_007294.3:c.5066T&gt;C</td>\n",
       "      <td>C</td>\n",
       "      <td>T</td>\n",
       "      <td>49/131</td>\n",
       "      <td>PASS</td>\n",
       "    </tr>\n",
       "    <tr>\n",
       "      <th>2</th>\n",
       "      <td>FBN1</td>\n",
       "      <td>15</td>\n",
       "      <td>48600225</td>\n",
       "      <td>NM_000138.4:c.356G&gt;A</td>\n",
       "      <td>A</td>\n",
       "      <td>G</td>\n",
       "      <td>46/99</td>\n",
       "      <td>PASS</td>\n",
       "    </tr>\n",
       "    <tr>\n",
       "      <th>3</th>\n",
       "      <td>MYH7</td>\n",
       "      <td>14</td>\n",
       "      <td>23426833</td>\n",
       "      <td>NM_000257.3:c.1988G&gt;A</td>\n",
       "      <td>A</td>\n",
       "      <td>G</td>\n",
       "      <td>8/102</td>\n",
       "      <td>NO PASS</td>\n",
       "    </tr>\n",
       "    <tr>\n",
       "      <th>4</th>\n",
       "      <td>ABO</td>\n",
       "      <td>9</td>\n",
       "      <td>133256042</td>\n",
       "      <td>rs56116432</td>\n",
       "      <td>T</td>\n",
       "      <td>C</td>\n",
       "      <td>1/200</td>\n",
       "      <td>NO PASS</td>\n",
       "    </tr>\n",
       "    <tr>\n",
       "      <th>5</th>\n",
       "      <td>BRCA1</td>\n",
       "      <td>17</td>\n",
       "      <td>43071077</td>\n",
       "      <td>rs1799966</td>\n",
       "      <td>A</td>\n",
       "      <td>T</td>\n",
       "      <td>14/85</td>\n",
       "      <td>PASS</td>\n",
       "    </tr>\n",
       "  </tbody>\n",
       "</table>\n",
       "</div>"
      ],
      "text/plain": [
       "  Gene_API CHROM        POS                     ID REF ALT    QUAL   FILTER\n",
       "0    IMPG2     3  101232831  NM_016247.3:c.3183C>G   G   C   34/64     PASS\n",
       "1    BRCA1    17   43067616  NM_007294.3:c.5066T>C   C   T  49/131     PASS\n",
       "2     FBN1    15   48600225   NM_000138.4:c.356G>A   A   G   46/99     PASS\n",
       "3     MYH7    14   23426833  NM_000257.3:c.1988G>A   A   G   8/102  NO PASS\n",
       "4      ABO     9  133256042             rs56116432   T   C   1/200  NO PASS\n",
       "5    BRCA1    17   43071077              rs1799966   A   T   14/85     PASS"
      ]
     },
     "execution_count": 153,
     "metadata": {},
     "output_type": "execute_result"
    }
   ],
   "source": [
    "df_stage1 = pd.DataFrame.from_dict(dict(zip(column_names, [row2gene_symbol, row2CHROM, row2POS,df[\"Transcript\"] ,row2ALT,row2REF, df[\"Quality\"], df[\"Filter\"]  ])))\n",
    "df_stage1"
   ]
  },
  {
   "cell_type": "markdown",
   "metadata": {},
   "source": [
    "# End of stage 1"
   ]
  },
  {
   "cell_type": "markdown",
   "metadata": {},
   "source": [
    "# Stage 2\n",
    "****"
   ]
  },
  {
   "cell_type": "code",
   "execution_count": 154,
   "metadata": {},
   "outputs": [],
   "source": [
    "# in Stage 2 we compare Gene and location between input and API request.\n",
    "# And we create a txt file to inform error found.\n"
   ]
  },
  {
   "cell_type": "code",
   "execution_count": 272,
   "metadata": {},
   "outputs": [],
   "source": [
    "# First, let's prepare where our information file is going to be create.\n",
    "\n",
    "# Introce in path the directory where we wish to create the new CVF\n",
    "save_path = '/Users/manolodominguez/Desktop/git-repos/STP_mini_projects/Igor-Manuel/Igor-Manuel/Output'\n",
    "\n",
    "# Introduce in name, the name of your new file\n",
    "name_of_file= \"inform_error\"\n",
    "\n",
    "# This will  create directory + file name\n",
    "completeName = os.path.join(save_path, name_of_file+\".txt\")         \n",
    "\n",
    "\n",
    "\n"
   ]
  },
  {
   "cell_type": "code",
   "execution_count": 156,
   "metadata": {},
   "outputs": [
    {
     "data": {
      "text/html": [
       "<div>\n",
       "<style scoped>\n",
       "    .dataframe tbody tr th:only-of-type {\n",
       "        vertical-align: middle;\n",
       "    }\n",
       "\n",
       "    .dataframe tbody tr th {\n",
       "        vertical-align: top;\n",
       "    }\n",
       "\n",
       "    .dataframe thead th {\n",
       "        text-align: right;\n",
       "    }\n",
       "</style>\n",
       "<table border=\"1\" class=\"dataframe\">\n",
       "  <thead>\n",
       "    <tr style=\"text-align: right;\">\n",
       "      <th></th>\n",
       "      <th>Gene_API</th>\n",
       "      <th>CHROM</th>\n",
       "      <th>POS</th>\n",
       "      <th>ID</th>\n",
       "      <th>REF</th>\n",
       "      <th>ALT</th>\n",
       "      <th>QUAL</th>\n",
       "      <th>FILTER</th>\n",
       "      <th>Location</th>\n",
       "    </tr>\n",
       "  </thead>\n",
       "  <tbody>\n",
       "    <tr>\n",
       "      <th>0</th>\n",
       "      <td>IMPG2</td>\n",
       "      <td>3</td>\n",
       "      <td>101232831</td>\n",
       "      <td>NM_016247.3:c.3183C&gt;G</td>\n",
       "      <td>G</td>\n",
       "      <td>C</td>\n",
       "      <td>34/64</td>\n",
       "      <td>PASS</td>\n",
       "      <td>3:101232831</td>\n",
       "    </tr>\n",
       "    <tr>\n",
       "      <th>1</th>\n",
       "      <td>BRCA1</td>\n",
       "      <td>17</td>\n",
       "      <td>43067616</td>\n",
       "      <td>NM_007294.3:c.5066T&gt;C</td>\n",
       "      <td>C</td>\n",
       "      <td>T</td>\n",
       "      <td>49/131</td>\n",
       "      <td>PASS</td>\n",
       "      <td>17:43067616</td>\n",
       "    </tr>\n",
       "    <tr>\n",
       "      <th>2</th>\n",
       "      <td>FBN1</td>\n",
       "      <td>15</td>\n",
       "      <td>48600225</td>\n",
       "      <td>NM_000138.4:c.356G&gt;A</td>\n",
       "      <td>A</td>\n",
       "      <td>G</td>\n",
       "      <td>46/99</td>\n",
       "      <td>PASS</td>\n",
       "      <td>15:48600225</td>\n",
       "    </tr>\n",
       "    <tr>\n",
       "      <th>3</th>\n",
       "      <td>MYH7</td>\n",
       "      <td>14</td>\n",
       "      <td>23426833</td>\n",
       "      <td>NM_000257.3:c.1988G&gt;A</td>\n",
       "      <td>A</td>\n",
       "      <td>G</td>\n",
       "      <td>8/102</td>\n",
       "      <td>NO PASS</td>\n",
       "      <td>14:23426833</td>\n",
       "    </tr>\n",
       "    <tr>\n",
       "      <th>4</th>\n",
       "      <td>ABO</td>\n",
       "      <td>9</td>\n",
       "      <td>133256042</td>\n",
       "      <td>rs56116432</td>\n",
       "      <td>T</td>\n",
       "      <td>C</td>\n",
       "      <td>1/200</td>\n",
       "      <td>NO PASS</td>\n",
       "      <td>9:133256042</td>\n",
       "    </tr>\n",
       "    <tr>\n",
       "      <th>5</th>\n",
       "      <td>BRCA1</td>\n",
       "      <td>17</td>\n",
       "      <td>43071077</td>\n",
       "      <td>rs1799966</td>\n",
       "      <td>A</td>\n",
       "      <td>T</td>\n",
       "      <td>14/85</td>\n",
       "      <td>PASS</td>\n",
       "      <td>17:43071077</td>\n",
       "    </tr>\n",
       "  </tbody>\n",
       "</table>\n",
       "</div>"
      ],
      "text/plain": [
       "  Gene_API CHROM        POS                     ID REF ALT    QUAL   FILTER  \\\n",
       "0    IMPG2     3  101232831  NM_016247.3:c.3183C>G   G   C   34/64     PASS   \n",
       "1    BRCA1    17   43067616  NM_007294.3:c.5066T>C   C   T  49/131     PASS   \n",
       "2     FBN1    15   48600225   NM_000138.4:c.356G>A   A   G   46/99     PASS   \n",
       "3     MYH7    14   23426833  NM_000257.3:c.1988G>A   A   G   8/102  NO PASS   \n",
       "4      ABO     9  133256042             rs56116432   T   C   1/200  NO PASS   \n",
       "5    BRCA1    17   43071077              rs1799966   A   T   14/85     PASS   \n",
       "\n",
       "      Location  \n",
       "0  3:101232831  \n",
       "1  17:43067616  \n",
       "2  15:48600225  \n",
       "3  14:23426833  \n",
       "4  9:133256042  \n",
       "5  17:43071077  "
      ]
     },
     "execution_count": 156,
     "metadata": {},
     "output_type": "execute_result"
    }
   ],
   "source": [
    "# To compare input with API result\n",
    "# We need to create a new column from CHROM + ':' + POS\n",
    "\n",
    "df_stage1 = df_stage1.applymap(str)\n",
    "df_stage1['Location'] = df_stage1['CHROM'].str.cat(df_stage1['POS'], sep=':')\n",
    "df_stage1"
   ]
  },
  {
   "cell_type": "code",
   "execution_count": 157,
   "metadata": {},
   "outputs": [],
   "source": [
    "# Now, we can compare Gene and location of the input againt Gene and location\n",
    "# from the API\n",
    "\n",
    "# Let's create a new df for comparison purpose\n",
    "\n",
    "df_comparation =  pd.concat([df.iloc[:, 0:3], df_stage1[['Gene_API','Location']]], axis=1)\n",
    "#df_comparation = df_comparation.set_index(\"Transcript\")"
   ]
  },
  {
   "cell_type": "code",
   "execution_count": 158,
   "metadata": {
    "scrolled": true
   },
   "outputs": [
    {
     "data": {
      "text/html": [
       "<div>\n",
       "<style scoped>\n",
       "    .dataframe tbody tr th:only-of-type {\n",
       "        vertical-align: middle;\n",
       "    }\n",
       "\n",
       "    .dataframe tbody tr th {\n",
       "        vertical-align: top;\n",
       "    }\n",
       "\n",
       "    .dataframe thead th {\n",
       "        text-align: right;\n",
       "    }\n",
       "</style>\n",
       "<table border=\"1\" class=\"dataframe\">\n",
       "  <thead>\n",
       "    <tr style=\"text-align: right;\">\n",
       "      <th></th>\n",
       "      <th>Gene</th>\n",
       "      <th>GRCh38 coordinates</th>\n",
       "      <th>Transcript</th>\n",
       "      <th>Gene_API</th>\n",
       "      <th>Location</th>\n",
       "    </tr>\n",
       "  </thead>\n",
       "  <tbody>\n",
       "    <tr>\n",
       "      <th>0</th>\n",
       "      <td>IMPG2</td>\n",
       "      <td>3:101232831</td>\n",
       "      <td>NM_016247.3:c.3183C&gt;G</td>\n",
       "      <td>IMPG2</td>\n",
       "      <td>3:101232831</td>\n",
       "    </tr>\n",
       "    <tr>\n",
       "      <th>1</th>\n",
       "      <td>BRCA1</td>\n",
       "      <td>17:43067616</td>\n",
       "      <td>NM_007294.3:c.5066T&gt;C</td>\n",
       "      <td>BRCA1</td>\n",
       "      <td>17:43067616</td>\n",
       "    </tr>\n",
       "    <tr>\n",
       "      <th>2</th>\n",
       "      <td>FBN1</td>\n",
       "      <td>15:48600225</td>\n",
       "      <td>NM_000138.4:c.356G&gt;A</td>\n",
       "      <td>FBN1</td>\n",
       "      <td>15:48600225</td>\n",
       "    </tr>\n",
       "    <tr>\n",
       "      <th>3</th>\n",
       "      <td>MYH7</td>\n",
       "      <td>14:23426833</td>\n",
       "      <td>NM_000257.3:c.1988G&gt;A</td>\n",
       "      <td>MYH7</td>\n",
       "      <td>14:23426833</td>\n",
       "    </tr>\n",
       "    <tr>\n",
       "      <th>4</th>\n",
       "      <td>BORIS</td>\n",
       "      <td>9:133256042</td>\n",
       "      <td>rs56116432</td>\n",
       "      <td>ABO</td>\n",
       "      <td>9:133256042</td>\n",
       "    </tr>\n",
       "    <tr>\n",
       "      <th>5</th>\n",
       "      <td>BRCA1</td>\n",
       "      <td>77:43071077</td>\n",
       "      <td>rs1799966</td>\n",
       "      <td>BRCA1</td>\n",
       "      <td>17:43071077</td>\n",
       "    </tr>\n",
       "  </tbody>\n",
       "</table>\n",
       "</div>"
      ],
      "text/plain": [
       "    Gene GRCh38 coordinates             Transcript Gene_API     Location\n",
       "0  IMPG2        3:101232831  NM_016247.3:c.3183C>G    IMPG2  3:101232831\n",
       "1  BRCA1        17:43067616  NM_007294.3:c.5066T>C    BRCA1  17:43067616\n",
       "2   FBN1        15:48600225   NM_000138.4:c.356G>A     FBN1  15:48600225\n",
       "3   MYH7        14:23426833  NM_000257.3:c.1988G>A     MYH7  14:23426833\n",
       "4  BORIS        9:133256042             rs56116432      ABO  9:133256042\n",
       "5  BRCA1        77:43071077              rs1799966    BRCA1  17:43071077"
      ]
     },
     "execution_count": 158,
     "metadata": {},
     "output_type": "execute_result"
    }
   ],
   "source": [
    "df_comparation"
   ]
  },
  {
   "cell_type": "code",
   "execution_count": 159,
   "metadata": {},
   "outputs": [],
   "source": [
    "# New two columns as result of the comparation\n",
    "df_comparation['result1'] = np.where(df_comparation.iloc[:, 0] == df_comparation.iloc[:, 3], 'OK', 'ERROR')"
   ]
  },
  {
   "cell_type": "code",
   "execution_count": 160,
   "metadata": {},
   "outputs": [],
   "source": [
    "df_comparation['result2'] = np.where(df_comparation.iloc[:, 1] == df_comparation.iloc[:, 4], 'OK', 'ERROR')"
   ]
  },
  {
   "cell_type": "code",
   "execution_count": 161,
   "metadata": {},
   "outputs": [
    {
     "data": {
      "text/html": [
       "<div>\n",
       "<style scoped>\n",
       "    .dataframe tbody tr th:only-of-type {\n",
       "        vertical-align: middle;\n",
       "    }\n",
       "\n",
       "    .dataframe tbody tr th {\n",
       "        vertical-align: top;\n",
       "    }\n",
       "\n",
       "    .dataframe thead th {\n",
       "        text-align: right;\n",
       "    }\n",
       "</style>\n",
       "<table border=\"1\" class=\"dataframe\">\n",
       "  <thead>\n",
       "    <tr style=\"text-align: right;\">\n",
       "      <th></th>\n",
       "      <th>Gene</th>\n",
       "      <th>GRCh38 coordinates</th>\n",
       "      <th>Transcript</th>\n",
       "      <th>Gene_API</th>\n",
       "      <th>Location</th>\n",
       "      <th>result1</th>\n",
       "      <th>result2</th>\n",
       "    </tr>\n",
       "  </thead>\n",
       "  <tbody>\n",
       "    <tr>\n",
       "      <th>0</th>\n",
       "      <td>IMPG2</td>\n",
       "      <td>3:101232831</td>\n",
       "      <td>NM_016247.3:c.3183C&gt;G</td>\n",
       "      <td>IMPG2</td>\n",
       "      <td>3:101232831</td>\n",
       "      <td>OK</td>\n",
       "      <td>OK</td>\n",
       "    </tr>\n",
       "    <tr>\n",
       "      <th>1</th>\n",
       "      <td>BRCA1</td>\n",
       "      <td>17:43067616</td>\n",
       "      <td>NM_007294.3:c.5066T&gt;C</td>\n",
       "      <td>BRCA1</td>\n",
       "      <td>17:43067616</td>\n",
       "      <td>OK</td>\n",
       "      <td>OK</td>\n",
       "    </tr>\n",
       "    <tr>\n",
       "      <th>2</th>\n",
       "      <td>FBN1</td>\n",
       "      <td>15:48600225</td>\n",
       "      <td>NM_000138.4:c.356G&gt;A</td>\n",
       "      <td>FBN1</td>\n",
       "      <td>15:48600225</td>\n",
       "      <td>OK</td>\n",
       "      <td>OK</td>\n",
       "    </tr>\n",
       "    <tr>\n",
       "      <th>3</th>\n",
       "      <td>MYH7</td>\n",
       "      <td>14:23426833</td>\n",
       "      <td>NM_000257.3:c.1988G&gt;A</td>\n",
       "      <td>MYH7</td>\n",
       "      <td>14:23426833</td>\n",
       "      <td>OK</td>\n",
       "      <td>OK</td>\n",
       "    </tr>\n",
       "    <tr>\n",
       "      <th>4</th>\n",
       "      <td>BORIS</td>\n",
       "      <td>9:133256042</td>\n",
       "      <td>rs56116432</td>\n",
       "      <td>ABO</td>\n",
       "      <td>9:133256042</td>\n",
       "      <td>ERROR</td>\n",
       "      <td>OK</td>\n",
       "    </tr>\n",
       "    <tr>\n",
       "      <th>5</th>\n",
       "      <td>BRCA1</td>\n",
       "      <td>77:43071077</td>\n",
       "      <td>rs1799966</td>\n",
       "      <td>BRCA1</td>\n",
       "      <td>17:43071077</td>\n",
       "      <td>OK</td>\n",
       "      <td>ERROR</td>\n",
       "    </tr>\n",
       "  </tbody>\n",
       "</table>\n",
       "</div>"
      ],
      "text/plain": [
       "    Gene GRCh38 coordinates             Transcript Gene_API     Location  \\\n",
       "0  IMPG2        3:101232831  NM_016247.3:c.3183C>G    IMPG2  3:101232831   \n",
       "1  BRCA1        17:43067616  NM_007294.3:c.5066T>C    BRCA1  17:43067616   \n",
       "2   FBN1        15:48600225   NM_000138.4:c.356G>A     FBN1  15:48600225   \n",
       "3   MYH7        14:23426833  NM_000257.3:c.1988G>A     MYH7  14:23426833   \n",
       "4  BORIS        9:133256042             rs56116432      ABO  9:133256042   \n",
       "5  BRCA1        77:43071077              rs1799966    BRCA1  17:43071077   \n",
       "\n",
       "  result1 result2  \n",
       "0      OK      OK  \n",
       "1      OK      OK  \n",
       "2      OK      OK  \n",
       "3      OK      OK  \n",
       "4   ERROR      OK  \n",
       "5      OK   ERROR  "
      ]
     },
     "execution_count": 161,
     "metadata": {},
     "output_type": "execute_result"
    }
   ],
   "source": [
    "df_comparation"
   ]
  },
  {
   "cell_type": "code",
   "execution_count": 162,
   "metadata": {},
   "outputs": [],
   "source": [
    "# We save here the rows where errors have been in gene\n",
    "gene_error = df_comparation[df_comparation['result1'].str.match('ERROR')]\n",
    "gene_error = gene_error.drop(gene_error.columns[[1,4,5,6]], axis=1)"
   ]
  },
  {
   "cell_type": "code",
   "execution_count": 274,
   "metadata": {},
   "outputs": [
    {
     "data": {
      "text/html": [
       "<div>\n",
       "<style scoped>\n",
       "    .dataframe tbody tr th:only-of-type {\n",
       "        vertical-align: middle;\n",
       "    }\n",
       "\n",
       "    .dataframe tbody tr th {\n",
       "        vertical-align: top;\n",
       "    }\n",
       "\n",
       "    .dataframe thead th {\n",
       "        text-align: right;\n",
       "    }\n",
       "</style>\n",
       "<table border=\"1\" class=\"dataframe\">\n",
       "  <thead>\n",
       "    <tr style=\"text-align: right;\">\n",
       "      <th></th>\n",
       "      <th>Gene</th>\n",
       "      <th>Transcript</th>\n",
       "      <th>Gene_API</th>\n",
       "    </tr>\n",
       "  </thead>\n",
       "  <tbody>\n",
       "    <tr>\n",
       "      <th>4</th>\n",
       "      <td>BORIS</td>\n",
       "      <td>rs56116432</td>\n",
       "      <td>ABO</td>\n",
       "    </tr>\n",
       "  </tbody>\n",
       "</table>\n",
       "</div>"
      ],
      "text/plain": [
       "    Gene  Transcript Gene_API\n",
       "4  BORIS  rs56116432      ABO"
      ]
     },
     "execution_count": 274,
     "metadata": {},
     "output_type": "execute_result"
    }
   ],
   "source": [
    "gene_error"
   ]
  },
  {
   "cell_type": "code",
   "execution_count": 164,
   "metadata": {},
   "outputs": [
    {
     "data": {
      "text/plain": [
       "{'rs56116432': ['BORIS', 'ABO']}"
      ]
     },
     "execution_count": 164,
     "metadata": {},
     "output_type": "execute_result"
    }
   ],
   "source": [
    "# we save this information in a dict with the variant where the error has been found as key\n",
    "# Plus in a list the gene simbol of the input and the gene simbol of the API as value.\n",
    "gene2gene_API = gene_error.set_index('Transcript').T.to_dict('list')\n",
    "gene2gene_API"
   ]
  },
  {
   "cell_type": "code",
   "execution_count": 165,
   "metadata": {},
   "outputs": [],
   "source": [
    "# Same operation for location"
   ]
  },
  {
   "cell_type": "code",
   "execution_count": 181,
   "metadata": {},
   "outputs": [
    {
     "data": {
      "text/html": [
       "<div>\n",
       "<style scoped>\n",
       "    .dataframe tbody tr th:only-of-type {\n",
       "        vertical-align: middle;\n",
       "    }\n",
       "\n",
       "    .dataframe tbody tr th {\n",
       "        vertical-align: top;\n",
       "    }\n",
       "\n",
       "    .dataframe thead th {\n",
       "        text-align: right;\n",
       "    }\n",
       "</style>\n",
       "<table border=\"1\" class=\"dataframe\">\n",
       "  <thead>\n",
       "    <tr style=\"text-align: right;\">\n",
       "      <th></th>\n",
       "      <th>GRCh38 coordinates</th>\n",
       "      <th>Transcript</th>\n",
       "      <th>Location</th>\n",
       "    </tr>\n",
       "  </thead>\n",
       "  <tbody>\n",
       "    <tr>\n",
       "      <th>5</th>\n",
       "      <td>77:43071077</td>\n",
       "      <td>rs1799966</td>\n",
       "      <td>17:43071077</td>\n",
       "    </tr>\n",
       "  </tbody>\n",
       "</table>\n",
       "</div>"
      ],
      "text/plain": [
       "  GRCh38 coordinates Transcript     Location\n",
       "5        77:43071077  rs1799966  17:43071077"
      ]
     },
     "execution_count": 181,
     "metadata": {},
     "output_type": "execute_result"
    }
   ],
   "source": [
    "location_error = df_comparation[df_comparation['result2'].str.match('ERROR')]\n",
    "location_error = location_error.drop(location_error.columns[[0,3,5,6]], axis=1)\n",
    "location_error"
   ]
  },
  {
   "cell_type": "code",
   "execution_count": 167,
   "metadata": {},
   "outputs": [
    {
     "data": {
      "text/plain": [
       "{'rs1799966': ['77:43071077', '17:43071077']}"
      ]
     },
     "execution_count": 167,
     "metadata": {},
     "output_type": "execute_result"
    }
   ],
   "source": [
    "variant2locations = location_error.set_index('Transcript').T.to_dict('list')\n",
    "variant2locations"
   ]
  },
  {
   "cell_type": "code",
   "execution_count": 297,
   "metadata": {},
   "outputs": [],
   "source": [
    "# Now with dicts we can write the inform_error.txt\n",
    "# If both dicts are empty\n",
    "# then create the txt saying there is not error found\n",
    "# If one or both dict contain data\n",
    "# then says the errors found\n",
    "\n",
    "\n",
    "# If there is not any mismatch found, one document will be created saying \n",
    "No_error_found = 'Congratulation, no errors have been found in your CSV with regard to gene symbol and location\\n'\n",
    "\n",
    "\n",
    "# If there are mismathes found, one document will be created saying\n",
    "Errors_found = 'If you are reading this document is because some error(s) or mismatch(s) has been found between the Gene Symbol and/or the location of your variants\\nWhen these has been compared with API Emsembl.\\nWe show you the differences found in this document.\\n\\n'\n",
    "# Plus the mismatch\n",
    "\n",
    "\n",
    "# Number of locations mismatches \n",
    "how_many_location_error = 'Number of location mismachts found:', str(len(location_error))\n",
    "how_many_location_error = ' '.join(how_many_location_error)\n",
    "\n",
    "# Now, show these mismatchs in this order\n",
    "\n",
    "header_location = 'Your location     variant    API location\\n'\n",
    "\n",
    "# Now the same with gene_symbol\n",
    "\n",
    "# Number of gene_symbol mismatchs\n",
    "how_many_GS_error = 'Number of Gene Symbol mismachts found:', str(len(gene_error))\n",
    "how_many_GS_error = ' '.join(how_many_GS_error)\n",
    "\n",
    "# Now, show these mismatchs in this order\n",
    "\n",
    "header_gene_symbol = 'Your Gene_symbol,     Variant,       API Gene_symbol\\n'\n",
    "separator = '\\n'\n",
    "\n",
    "location_title = \"############# LOCATION'S MISMACHTS ############## \\n\\n\"\n",
    "gene_title = \"\\n\\n############# GENE_SYMBOL'S MISMACHTS #############\\n\\n\"\n",
    "\n",
    "# Here we introduce a condition, if dicts are empty\n",
    "# write No_error_found\n",
    "# if dicts are. not empty, write all this information\n",
    "\n",
    "if bool(variant2locations) == False:\n",
    "    if bool(gene2gene_API)==False:\n",
    "        with open(completeName,'w') as out:\n",
    "            out.writelines([No_error_found])\n",
    "else:\n",
    "    # Write location\n",
    "    \n",
    "    with open(completeName,'w') as out:\n",
    "            out.writelines([Errors_found, location_title, how_many_location_error, separator, header_location])   \n",
    "    location_error.to_csv(completeName,\n",
    "          header=None, index=None, sep='\\t', mode='a')\n",
    "\n",
    "    \n",
    "    # Now, with Gene_symbol    \n",
    "    \n",
    "    with open(completeName,'a') as out:\n",
    "        out.writelines([gene_title, how_many_GS_error, separator,header_gene_symbol])\n",
    "    gene_error.to_csv(completeName,\n",
    "          header=None, index=None, sep='\\t', mode='a')"
   ]
  },
  {
   "cell_type": "code",
   "execution_count": 258,
   "metadata": {},
   "outputs": [],
   "source": [
    "how_many_gene_error = 'Number of mismachts found', str(len(gene2gene_API))\n"
   ]
  },
  {
   "cell_type": "code",
   "execution_count": 265,
   "metadata": {},
   "outputs": [
    {
     "data": {
      "text/plain": [
       "str"
      ]
     },
     "execution_count": 265,
     "metadata": {},
     "output_type": "execute_result"
    }
   ],
   "source": [
    "type(how_many_gene_error)"
   ]
  },
  {
   "cell_type": "code",
   "execution_count": 264,
   "metadata": {},
   "outputs": [],
   "source": [
    "how_many_gene_error = ' '.join(how_many_gene_error)"
   ]
  },
  {
   "cell_type": "code",
   "execution_count": null,
   "metadata": {},
   "outputs": [],
   "source": []
  }
 ],
 "metadata": {
  "kernelspec": {
   "display_name": "Python 3",
   "language": "python",
   "name": "python3"
  },
  "language_info": {
   "codemirror_mode": {
    "name": "ipython",
    "version": 3
   },
   "file_extension": ".py",
   "mimetype": "text/x-python",
   "name": "python",
   "nbconvert_exporter": "python",
   "pygments_lexer": "ipython3",
   "version": "3.8.3"
  }
 },
 "nbformat": 4,
 "nbformat_minor": 4
}
