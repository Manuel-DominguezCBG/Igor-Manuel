{
 "cells": [
  {
   "cell_type": "markdown",
   "metadata": {},
   "source": [
    "# Stage 1\n",
    "****"
   ]
  },
  {
   "cell_type": "code",
   "execution_count": 1,
   "metadata": {},
   "outputs": [],
   "source": [
    "# This script is the first stage of the project CSV2VCF-converter\n",
    "\n",
    "# In this first stage, we pretend to write a code to be able to identify 4 types of ID variants from a CSV input.\n",
    "\n",
    "# The 4 types of ID variants are Transcript(:c.), RefSeq Gene (:g.),Protein1 (:p.) and Protein (:p.) \n",
    "\n",
    "# We have created 5 CSV files. One per type of ID plus a 5th that contain all types of ID.\n"
   ]
  },
  {
   "cell_type": "code",
   "execution_count": 6,
   "metadata": {},
   "outputs": [],
   "source": [
    "import sys\n",
    "import os\n",
    "import requests\n",
    "import chardet\n",
    "import json\n",
    "import pandas as pd\n",
    "import myvariant"
   ]
  },
  {
   "cell_type": "markdown",
   "metadata": {},
   "source": [
    "### To read input"
   ]
  },
  {
   "cell_type": "code",
   "execution_count": 71,
   "metadata": {},
   "outputs": [],
   "source": [
    "# To read input\n",
    "\n",
    "# This code is able to recognise the 4 type of ID variant mention above contained in a CSV file.\n",
    "\n",
    "CSV_input = '/Users/manolodominguez/Desktop/git-repos/STP_mini_projects/Igor-Manuel/Igor-Manuel/different_input/RefSeq.csv'\n",
    "\n",
    "\n",
    "# input to pd data frame\n",
    "\n",
    "\n",
    "# This is to avoid UnicodeDecodeError: 'utf-8'\n",
    "with open(CSV_input, 'rb') as f:\n",
    "    result = chardet.detect(f.read())\n",
    "\n",
    "\n",
    "df = pd.read_csv(CSV_input, encoding=result['encoding'])\n",
    "\n",
    "# We will need a extra copy to avoid repetitions\n",
    "df_draft = df\n",
    "\n"
   ]
  },
  {
   "cell_type": "markdown",
   "metadata": {},
   "source": [
    "### Here we read and found what we want from the CSV\n"
   ]
  },
  {
   "cell_type": "code",
   "execution_count": 72,
   "metadata": {},
   "outputs": [
    {
     "name": "stdout",
     "output_type": "stream",
     "text": [
      "{0: 'NG_028284.1:g.92745C>G', 1: 'NG_005905.2:g.150368T>C', 2: 'NG_008805.2:g.50564G>A'}\n"
     ]
    }
   ],
   "source": [
    "##### Reading CSV file values and looking for variants IDs ######\n",
    "\n",
    "# Find Variant Transcript ':c.' in CSV\n",
    "Transcript = df_draft[df_draft.apply(lambda x:x.str.contains(\":c.\"))].dropna(how='all').dropna(axis=1, how='all')\n",
    "\n",
    "# Now, we save the results found in a dict key=index and value=variand ID\n",
    "if Transcript.empty == False:\n",
    "    ind = Transcript.index.to_list()\n",
    "    vals = list(Transcript.stack().values)\n",
    "    row2Transcript = dict(zip(ind, vals))\n",
    "    print(row2Transcript)\n",
    "    # We need to remove the row where rs has been found to avoid repetitions\n",
    "    # In case in same row more than one kind of ID Variant is stored ('e.g :c.' and '(:p.)')   \n",
    "    for index, Transcript  in row2Transcript.items(): \n",
    "        # This will be done in df_draft\n",
    "        df_draft = df_draft.drop(index)\n",
    "        \n",
    "# Now we repeat operation with other 3 types of ID variant.\n",
    "\n",
    "\n",
    "# Here with Variant ID RefSeq Gene (:g.) in CSV\n",
    "RefSeq = df_draft[df_draft.apply(lambda x:x.str.contains(\":g.\"))].dropna(how='all').dropna(axis=1, how='all')\n",
    "\n",
    "if RefSeq.empty == False:\n",
    "    ind = RefSeq.index.to_list()\n",
    "    vals = list(RefSeq.stack().values)\n",
    "    row2RefSeq = dict(zip(ind, vals))\n",
    "    print(row2RefSeq)\n",
    "    \n",
    "    for index, RefSeq  in row2RefSeq.items(): \n",
    "        df_draft = df_draft.drop(index)\n",
    "\n",
    "# Here with Variant ID Protein (:p.) in CSV\n",
    "Protein = df_draft[df_draft.apply(lambda x:x.str.contains(\":p.\"))].dropna(how='all').dropna(axis=1, how='all')\n",
    "\n",
    "if Protein.empty == False:\n",
    "    ind = Protein.index.to_list()\n",
    "    vals = list(Protein.stack().values)\n",
    "    row2Protein = dict(zip(ind, vals))\n",
    "    print(row2Protein)\n",
    "    \n",
    "    for index, Protein  in row2Protein.items(): \n",
    "        df_draft = df_draft.drop(index)\n",
    "\n"
   ]
  },
  {
   "cell_type": "code",
   "execution_count": 68,
   "metadata": {},
   "outputs": [
    {
     "data": {
      "text/plain": [
       "'ascii'"
      ]
     },
     "execution_count": 68,
     "metadata": {},
     "output_type": "execute_result"
    }
   ],
   "source": []
  },
  {
   "cell_type": "code",
   "execution_count": 73,
   "metadata": {},
   "outputs": [
    {
     "ename": "HTTPError",
     "evalue": "400 Client Error: Bad Request for url: https://rest.ensembl.org/vep/human/hgvs/NG_028284.1:g.92745C%3EG",
     "output_type": "error",
     "traceback": [
      "\u001b[0;31m---------------------------------------------------------------------------\u001b[0m",
      "\u001b[0;31mHTTPError\u001b[0m                                 Traceback (most recent call last)",
      "\u001b[0;32m<ipython-input-73-eda25a93551e>\u001b[0m in \u001b[0;36m<module>\u001b[0;34m\u001b[0m\n\u001b[1;32m      7\u001b[0m \u001b[0;34m\u001b[0m\u001b[0m\n\u001b[1;32m      8\u001b[0m \u001b[0;32mif\u001b[0m \u001b[0;32mnot\u001b[0m \u001b[0mr\u001b[0m\u001b[0;34m.\u001b[0m\u001b[0mok\u001b[0m\u001b[0;34m:\u001b[0m\u001b[0;34m\u001b[0m\u001b[0;34m\u001b[0m\u001b[0m\n\u001b[0;32m----> 9\u001b[0;31m   \u001b[0mr\u001b[0m\u001b[0;34m.\u001b[0m\u001b[0mraise_for_status\u001b[0m\u001b[0;34m(\u001b[0m\u001b[0;34m)\u001b[0m\u001b[0;34m\u001b[0m\u001b[0;34m\u001b[0m\u001b[0m\n\u001b[0m\u001b[1;32m     10\u001b[0m   \u001b[0msys\u001b[0m\u001b[0;34m.\u001b[0m\u001b[0mexit\u001b[0m\u001b[0;34m(\u001b[0m\u001b[0;34m)\u001b[0m\u001b[0;34m\u001b[0m\u001b[0;34m\u001b[0m\u001b[0m\n\u001b[1;32m     11\u001b[0m \u001b[0;34m\u001b[0m\u001b[0m\n",
      "\u001b[0;32m~/anaconda3/lib/python3.8/site-packages/requests/models.py\u001b[0m in \u001b[0;36mraise_for_status\u001b[0;34m(self)\u001b[0m\n\u001b[1;32m    939\u001b[0m \u001b[0;34m\u001b[0m\u001b[0m\n\u001b[1;32m    940\u001b[0m         \u001b[0;32mif\u001b[0m \u001b[0mhttp_error_msg\u001b[0m\u001b[0;34m:\u001b[0m\u001b[0;34m\u001b[0m\u001b[0;34m\u001b[0m\u001b[0m\n\u001b[0;32m--> 941\u001b[0;31m             \u001b[0;32mraise\u001b[0m \u001b[0mHTTPError\u001b[0m\u001b[0;34m(\u001b[0m\u001b[0mhttp_error_msg\u001b[0m\u001b[0;34m,\u001b[0m \u001b[0mresponse\u001b[0m\u001b[0;34m=\u001b[0m\u001b[0mself\u001b[0m\u001b[0;34m)\u001b[0m\u001b[0;34m\u001b[0m\u001b[0;34m\u001b[0m\u001b[0m\n\u001b[0m\u001b[1;32m    942\u001b[0m \u001b[0;34m\u001b[0m\u001b[0m\n\u001b[1;32m    943\u001b[0m     \u001b[0;32mdef\u001b[0m \u001b[0mclose\u001b[0m\u001b[0;34m(\u001b[0m\u001b[0mself\u001b[0m\u001b[0;34m)\u001b[0m\u001b[0;34m:\u001b[0m\u001b[0;34m\u001b[0m\u001b[0;34m\u001b[0m\u001b[0m\n",
      "\u001b[0;31mHTTPError\u001b[0m: 400 Client Error: Bad Request for url: https://rest.ensembl.org/vep/human/hgvs/NG_028284.1:g.92745C%3EG"
     ]
    }
   ],
   "source": [
    "import requests, sys\n",
    " \n",
    "server = \"https://rest.ensembl.org\"\n",
    "ext = \"/vep/human/hgvs/NG_028284.1:g.92745C>G?\"\n",
    " \n",
    "r = requests.get(server+ext, headers={ \"Content-Type\" : \"application/json\"})\n",
    " \n",
    "if not r.ok:\n",
    "  r.raise_for_status()\n",
    "  sys.exit()\n",
    " \n",
    "decoded = r.json()\n",
    "print(repr(decoded))\n",
    " "
   ]
  },
  {
   "cell_type": "code",
   "execution_count": null,
   "metadata": {},
   "outputs": [],
   "source": []
  }
 ],
 "metadata": {
  "kernelspec": {
   "display_name": "Python 3",
   "language": "python",
   "name": "python3"
  },
  "language_info": {
   "codemirror_mode": {
    "name": "ipython",
    "version": 3
   },
   "file_extension": ".py",
   "mimetype": "text/x-python",
   "name": "python",
   "nbconvert_exporter": "python",
   "pygments_lexer": "ipython3",
   "version": "3.8.3"
  }
 },
 "nbformat": 4,
 "nbformat_minor": 4
}
