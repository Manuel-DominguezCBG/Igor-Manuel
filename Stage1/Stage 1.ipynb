{
 "cells": [
  {
   "cell_type": "markdown",
   "metadata": {},
   "source": [
    "# Stage 1\n",
    "****"
   ]
  },
  {
   "cell_type": "code",
   "execution_count": 36,
   "metadata": {},
   "outputs": [],
   "source": [
    "# This script is the first stage of the project CSV2VCF-converter\n",
    "\n",
    "# In this first stage, we pretend to write a code to be able to identify \n",
    "# different types of ID variants from a CSV input.\n",
    "\n",
    "# Then, obtain data using this ID in a Request API\n",
    "\n",
    "# Finally, generate an df with the data neccesary to write a VCF file.\n",
    "\n"
   ]
  },
  {
   "cell_type": "code",
   "execution_count": 1,
   "metadata": {},
   "outputs": [],
   "source": [
    "import sys\n",
    "import os\n",
    "import requests\n",
    "import chardet\n",
    "import json\n",
    "import pandas as pd\n"
   ]
  },
  {
   "cell_type": "markdown",
   "metadata": {},
   "source": [
    "### To read input"
   ]
  },
  {
   "cell_type": "code",
   "execution_count": 145,
   "metadata": {},
   "outputs": [
    {
     "name": "stdout",
     "output_type": "stream",
     "text": [
      " The row 4 and 5th contain errors\n"
     ]
    },
    {
     "data": {
      "text/html": [
       "<div>\n",
       "<style scoped>\n",
       "    .dataframe tbody tr th:only-of-type {\n",
       "        vertical-align: middle;\n",
       "    }\n",
       "\n",
       "    .dataframe tbody tr th {\n",
       "        vertical-align: top;\n",
       "    }\n",
       "\n",
       "    .dataframe thead th {\n",
       "        text-align: right;\n",
       "    }\n",
       "</style>\n",
       "<table border=\"1\" class=\"dataframe\">\n",
       "  <thead>\n",
       "    <tr style=\"text-align: right;\">\n",
       "      <th></th>\n",
       "      <th>Gene</th>\n",
       "      <th>GRCh38 coordinates</th>\n",
       "      <th>Transcript</th>\n",
       "      <th>Quality</th>\n",
       "      <th>Filter</th>\n",
       "    </tr>\n",
       "  </thead>\n",
       "  <tbody>\n",
       "    <tr>\n",
       "      <th>0</th>\n",
       "      <td>IMPG2</td>\n",
       "      <td>3:101232831</td>\n",
       "      <td>NM_016247.3:c.3183C&gt;G</td>\n",
       "      <td>34/64</td>\n",
       "      <td>PASS</td>\n",
       "    </tr>\n",
       "    <tr>\n",
       "      <th>1</th>\n",
       "      <td>BRCA1</td>\n",
       "      <td>17:43067616</td>\n",
       "      <td>NM_007294.3:c.5066T&gt;C</td>\n",
       "      <td>49/131</td>\n",
       "      <td>PASS</td>\n",
       "    </tr>\n",
       "    <tr>\n",
       "      <th>2</th>\n",
       "      <td>FBN1</td>\n",
       "      <td>15:48600225</td>\n",
       "      <td>NM_000138.4:c.356G&gt;A</td>\n",
       "      <td>46/99</td>\n",
       "      <td>PASS</td>\n",
       "    </tr>\n",
       "    <tr>\n",
       "      <th>3</th>\n",
       "      <td>MYH7</td>\n",
       "      <td>14:23426833</td>\n",
       "      <td>NM_000257.3:c.1988G&gt;A</td>\n",
       "      <td>8/102</td>\n",
       "      <td>NO PASS</td>\n",
       "    </tr>\n",
       "    <tr>\n",
       "      <th>4</th>\n",
       "      <td>BORIS</td>\n",
       "      <td>9:133256042</td>\n",
       "      <td>rs56116432</td>\n",
       "      <td>1/200</td>\n",
       "      <td>NO PASS</td>\n",
       "    </tr>\n",
       "    <tr>\n",
       "      <th>5</th>\n",
       "      <td>BRCA1</td>\n",
       "      <td>77:43071077</td>\n",
       "      <td>rs1799966</td>\n",
       "      <td>14/85</td>\n",
       "      <td>PASS</td>\n",
       "    </tr>\n",
       "  </tbody>\n",
       "</table>\n",
       "</div>"
      ],
      "text/plain": [
       "    Gene GRCh38 coordinates             Transcript Quality   Filter\n",
       "0  IMPG2        3:101232831  NM_016247.3:c.3183C>G   34/64     PASS\n",
       "1  BRCA1        17:43067616  NM_007294.3:c.5066T>C  49/131     PASS\n",
       "2   FBN1        15:48600225   NM_000138.4:c.356G>A   46/99     PASS\n",
       "3   MYH7        14:23426833  NM_000257.3:c.1988G>A   8/102  NO PASS\n",
       "4  BORIS        9:133256042             rs56116432   1/200  NO PASS\n",
       "5  BRCA1        77:43071077              rs1799966   14/85     PASS"
      ]
     },
     "execution_count": 145,
     "metadata": {},
     "output_type": "execute_result"
    }
   ],
   "source": [
    "# To read input\n",
    "\n",
    "# This code is able to recognise the 4 type of ID variant mention above contained in a CSV file.\n",
    "\n",
    "CSV_input = '/Users/manolodominguez/Desktop/git-repos/STP_mini_projects/Igor-Manuel/Igor-Manuel/different_input/NM_.csv'\n",
    "\n",
    "## The row 4 and 5th contain errors\n",
    "\n",
    "# input to pd data frame\n",
    "\n",
    "# This is to avoid UnicodeDecodeError: 'utf-8'\n",
    "with open(CSV_input, 'rb') as f:\n",
    "    result = chardet.detect(f.read())\n",
    "\n",
    "# This not work 100% of the times. To avoid UnicodeDecodeError: 'utf-8'\n",
    "# We strongly recommend that the input be .csv\n",
    "\n",
    "df = pd.read_csv(CSV_input, encoding=result['encoding'])\n",
    "\n",
    "# We will need a extra copy to avoid repetitions\n",
    "df_draft = df\n",
    "\n",
    "print(' The row 4 and 5th contain errors')\n",
    "\n",
    "df"
   ]
  },
  {
   "cell_type": "markdown",
   "metadata": {},
   "source": [
    "### Here we read and found what we want from the CSV\n"
   ]
  },
  {
   "cell_type": "code",
   "execution_count": 3,
   "metadata": {},
   "outputs": [],
   "source": [
    "##### Reading CSV file values and looking for variants IDs ######\n",
    "\n",
    "# Our programme recognise hgvs_notation (e.g AGT:c.803T>C and ENST00000003084:c.1431_1433delTTC) \n",
    "# and also dbSNP ID (e.g rs17289390)\n",
    "\n",
    "\n",
    "# Find Variant Transcript ':c.' in CSV\n",
    "Transcript = df_draft[df_draft.apply(lambda x:x.str.contains(\":c.\"))].dropna(how='all').dropna(axis=1, how='all')\n",
    "\n",
    "# Now, we save the results found in a dict key=index and value=variand ID\n",
    "if Transcript.empty == False:\n",
    "    ind = Transcript.index.to_list()\n",
    "    vals = list(Transcript.stack().values)\n",
    "    row2Transcript = dict(zip(ind, vals))\n",
    "    # We need to remove the row where rs has been found to avoid repetitions\n",
    "    # In case in same row more than one kind of ID Variant is stored ('e.g :c.' and '(:p.)')   \n",
    "    for index, Transcript  in row2Transcript.items(): \n",
    "        # This will be done in df_draft\n",
    "        df_draft = df_draft.drop(index)\n",
    "        \n",
    "# Same but now with dbSNP variant ID\n",
    "rs = df[df.apply(lambda x:x.str.contains(\"rs\\d+\"))].dropna(how='all').dropna(axis=1, how='all')\n",
    "\n",
    "#rs = df_draft[df_draft.apply(lambda x:x.str.contains(\"rs\"))].dropna(how='all').dropna(axis=1, how='all')\n",
    "\n",
    "# Now, we save the results found in a dict key=index and value=variand ID\n",
    "if rs.empty == False:\n",
    "    ind = rs.index.to_list()\n",
    "    vals = list(rs.stack().values)\n",
    "    row2rs = dict(zip(ind, vals))\n",
    "    # We need to remove the row where rs has been found to avoid repetitions\n",
    "    # In case in same row more than one kind of ID Variant is stored ('e.g :c.' and '(:p.)')   \n",
    "    for index, rs  in row2rs.items(): \n",
    "        # This will be done in df_draft\n",
    "        df_draft = df_draft.drop(index)\n",
    "\n"
   ]
  },
  {
   "cell_type": "markdown",
   "metadata": {},
   "source": [
    "### Let's see if last code worked"
   ]
  },
  {
   "cell_type": "code",
   "execution_count": 4,
   "metadata": {},
   "outputs": [
    {
     "data": {
      "text/plain": [
       "{4: 'rs56116432', 5: 'rs1799966'}"
      ]
     },
     "execution_count": 4,
     "metadata": {},
     "output_type": "execute_result"
    }
   ],
   "source": [
    "row2rs"
   ]
  },
  {
   "cell_type": "code",
   "execution_count": 5,
   "metadata": {},
   "outputs": [
    {
     "data": {
      "text/plain": [
       "{0: 'NM_016247.3:c.3183C>G',\n",
       " 1: 'NM_007294.3:c.5066T>C',\n",
       " 2: 'NM_000138.4:c.356G>A',\n",
       " 3: 'NM_000257.3:c.1988G>A'}"
      ]
     },
     "execution_count": 5,
     "metadata": {},
     "output_type": "execute_result"
    }
   ],
   "source": [
    "row2Transcript"
   ]
  },
  {
   "cell_type": "markdown",
   "metadata": {},
   "source": [
    "### Now, the request API"
   ]
  },
  {
   "cell_type": "code",
   "execution_count": 97,
   "metadata": {},
   "outputs": [],
   "source": [
    "row2gene_symbol = dict()\n",
    "row2CHROM = dict()\n",
    "row2POS = dict()\n",
    "row2ALT = dict()\n",
    "row2REF = dict()\n",
    "\n",
    "\n",
    "server = 'https://rest.ensembl.org/vep/human/hgvs/'\n",
    "\n",
    "for row, transcript in row2Transcript.items():\n",
    "\n",
    "    r = requests.get(server+transcript, headers={ \"Content-Type\" : \"application/json\"})\n",
    "    if not r.ok:\n",
    "        r.raise_for_status()\n",
    "        sys.exit()\n",
    "    decoded = r.json()[0]\n",
    "    \n",
    "# For row2gene_symbol\n",
    "    row2gene_symbol[row]= decoded[\"transcript_consequences\"][0]['gene_symbol']\n",
    "\n",
    "# For row2CHROM\n",
    "    row2CHROM[row] = decoded[\"seq_region_name\"]\n",
    "    \n",
    "# For row2POS \n",
    "    row2POS[row] = decoded[\"start\"]\n",
    "    \n",
    "# For row2ALT \n",
    "    row2ALT[row] = decoded[\"transcript_consequences\"][0]['variant_allele']\n",
    "\n",
    "# For row2REF\n",
    "    row2REF[row] = decoded['allele_string'][0]"
   ]
  },
  {
   "cell_type": "markdown",
   "metadata": {},
   "source": [
    "#### Let's see if the ditc work"
   ]
  },
  {
   "cell_type": "code",
   "execution_count": 104,
   "metadata": {},
   "outputs": [
    {
     "data": {
      "text/plain": [
       "{0: 'IMPG2', 1: 'BRCA1', 2: 'FBN1', 3: 'MYH7', 4: 'MYH7', 5: 'MYH7'}"
      ]
     },
     "execution_count": 104,
     "metadata": {},
     "output_type": "execute_result"
    }
   ],
   "source": [
    "row2gene_symbol"
   ]
  },
  {
   "cell_type": "code",
   "execution_count": 105,
   "metadata": {},
   "outputs": [
    {
     "data": {
      "text/plain": [
       "{0: '3', 1: '17', 2: '15', 3: '14', 4: '14', 5: '14'}"
      ]
     },
     "execution_count": 105,
     "metadata": {},
     "output_type": "execute_result"
    }
   ],
   "source": [
    "row2CHROM"
   ]
  },
  {
   "cell_type": "code",
   "execution_count": 106,
   "metadata": {},
   "outputs": [
    {
     "data": {
      "text/plain": [
       "{0: 101232831, 1: 43067616, 2: 48600225, 3: 23426833, 4: 23426833, 5: 23426833}"
      ]
     },
     "execution_count": 106,
     "metadata": {},
     "output_type": "execute_result"
    }
   ],
   "source": [
    "row2POS"
   ]
  },
  {
   "cell_type": "code",
   "execution_count": 107,
   "metadata": {},
   "outputs": [
    {
     "data": {
      "text/plain": [
       "{0: 'G', 1: 'C', 2: 'A', 3: 'A', 4: 'A', 5: 'A'}"
      ]
     },
     "execution_count": 107,
     "metadata": {},
     "output_type": "execute_result"
    }
   ],
   "source": [
    "row2ALT"
   ]
  },
  {
   "cell_type": "code",
   "execution_count": 108,
   "metadata": {},
   "outputs": [
    {
     "data": {
      "text/plain": [
       "{0: 'C', 1: 'T', 2: 'G', 3: 'G', 4: 'G', 5: 'G'}"
      ]
     },
     "execution_count": 108,
     "metadata": {},
     "output_type": "execute_result"
    }
   ],
   "source": [
    "row2REF"
   ]
  },
  {
   "cell_type": "code",
   "execution_count": 129,
   "metadata": {},
   "outputs": [],
   "source": [
    "# Now, we need to do the same with row2rs\n",
    "\n",
    "server = 'https://rest.ensembl.org/vep/human/hgvs/'\n",
    "\n",
    "for row, rs in row2rs.items():\n",
    "\n",
    "    r = requests.get(server+transcript, headers={ \"Content-Type\" : \"application/json\"})\n",
    "    if not r.ok:\n",
    "        r.raise_for_status()\n",
    "        sys.exit()\n",
    "    decoded = r.json()[0]\n",
    "    \n",
    "# For row2gene_symbol\n",
    "    row2gene_symbol[row]= decoded[\"transcript_consequences\"][0]['gene_symbol']\n",
    "\n",
    "# For row2CHROM\n",
    "    row2CHROM[row] = decoded[\"seq_region_name\"]\n",
    "    \n",
    "# For row2POS \n",
    "    row2POS[row] = decoded[\"start\"]\n",
    "    \n",
    "# For row2ALT \n",
    "    row2ALT[row] = decoded[\"transcript_consequences\"][0]['variant_allele']\n",
    "\n",
    "# For row2REF\n",
    "    row2REF[row] = decoded['allele_string'][0]"
   ]
  },
  {
   "cell_type": "code",
   "execution_count": 130,
   "metadata": {},
   "outputs": [
    {
     "data": {
      "text/plain": [
       "{0: 'IMPG2', 1: 'BRCA1', 2: 'FBN1', 3: 'MYH7', 4: 'MYH7', 5: 'MYH7'}"
      ]
     },
     "execution_count": 130,
     "metadata": {},
     "output_type": "execute_result"
    }
   ],
   "source": [
    "row2gene_symbol"
   ]
  },
  {
   "cell_type": "code",
   "execution_count": 131,
   "metadata": {},
   "outputs": [
    {
     "data": {
      "text/plain": [
       "{0: '3', 1: '17', 2: '15', 3: '14', 4: '14', 5: '14'}"
      ]
     },
     "execution_count": 131,
     "metadata": {},
     "output_type": "execute_result"
    }
   ],
   "source": [
    "row2CHROM"
   ]
  },
  {
   "cell_type": "code",
   "execution_count": 132,
   "metadata": {},
   "outputs": [
    {
     "data": {
      "text/plain": [
       "{0: 101232831, 1: 43067616, 2: 48600225, 3: 23426833, 4: 23426833, 5: 23426833}"
      ]
     },
     "execution_count": 132,
     "metadata": {},
     "output_type": "execute_result"
    }
   ],
   "source": [
    "row2POS"
   ]
  },
  {
   "cell_type": "code",
   "execution_count": 133,
   "metadata": {},
   "outputs": [
    {
     "data": {
      "text/plain": [
       "{0: 'G', 1: 'C', 2: 'A', 3: 'A', 4: 'A', 5: 'A'}"
      ]
     },
     "execution_count": 133,
     "metadata": {},
     "output_type": "execute_result"
    }
   ],
   "source": [
    "row2ALT"
   ]
  },
  {
   "cell_type": "code",
   "execution_count": 134,
   "metadata": {},
   "outputs": [
    {
     "data": {
      "text/plain": [
       "{0: 'C', 1: 'T', 2: 'G', 3: 'G', 4: 'G', 5: 'G'}"
      ]
     },
     "execution_count": 134,
     "metadata": {},
     "output_type": "execute_result"
    }
   ],
   "source": [
    "row2REF"
   ]
  },
  {
   "cell_type": "markdown",
   "metadata": {},
   "source": [
    "#### This looks ok"
   ]
  },
  {
   "cell_type": "code",
   "execution_count": 139,
   "metadata": {},
   "outputs": [],
   "source": [
    "# To finish this stage, \n",
    "# Let's save our dicts in a df\n",
    "\n",
    "column_names = [\"Gene\", 'CHROM','POS','ID','REF','ALT','QUAL','FILTER','INFO']\n",
    "df_stage1 = pd.DataFrame(columns = column_names)"
   ]
  },
  {
   "cell_type": "code",
   "execution_count": 148,
   "metadata": {},
   "outputs": [
    {
     "data": {
      "text/html": [
       "<div>\n",
       "<style scoped>\n",
       "    .dataframe tbody tr th:only-of-type {\n",
       "        vertical-align: middle;\n",
       "    }\n",
       "\n",
       "    .dataframe tbody tr th {\n",
       "        vertical-align: top;\n",
       "    }\n",
       "\n",
       "    .dataframe thead th {\n",
       "        text-align: right;\n",
       "    }\n",
       "</style>\n",
       "<table border=\"1\" class=\"dataframe\">\n",
       "  <thead>\n",
       "    <tr style=\"text-align: right;\">\n",
       "      <th></th>\n",
       "      <th>Gene</th>\n",
       "      <th>CHROM</th>\n",
       "      <th>POS</th>\n",
       "      <th>ID</th>\n",
       "      <th>REF</th>\n",
       "      <th>ALT</th>\n",
       "      <th>QUAL</th>\n",
       "      <th>FILTER</th>\n",
       "    </tr>\n",
       "  </thead>\n",
       "  <tbody>\n",
       "    <tr>\n",
       "      <th>0</th>\n",
       "      <td>IMPG2</td>\n",
       "      <td>3</td>\n",
       "      <td>101232831</td>\n",
       "      <td>NM_016247.3:c.3183C&gt;G</td>\n",
       "      <td>G</td>\n",
       "      <td>C</td>\n",
       "      <td>34/64</td>\n",
       "      <td>PASS</td>\n",
       "    </tr>\n",
       "    <tr>\n",
       "      <th>1</th>\n",
       "      <td>BRCA1</td>\n",
       "      <td>17</td>\n",
       "      <td>43067616</td>\n",
       "      <td>NM_007294.3:c.5066T&gt;C</td>\n",
       "      <td>C</td>\n",
       "      <td>T</td>\n",
       "      <td>49/131</td>\n",
       "      <td>PASS</td>\n",
       "    </tr>\n",
       "    <tr>\n",
       "      <th>2</th>\n",
       "      <td>FBN1</td>\n",
       "      <td>15</td>\n",
       "      <td>48600225</td>\n",
       "      <td>NM_000138.4:c.356G&gt;A</td>\n",
       "      <td>A</td>\n",
       "      <td>G</td>\n",
       "      <td>46/99</td>\n",
       "      <td>PASS</td>\n",
       "    </tr>\n",
       "    <tr>\n",
       "      <th>3</th>\n",
       "      <td>MYH7</td>\n",
       "      <td>14</td>\n",
       "      <td>23426833</td>\n",
       "      <td>NM_000257.3:c.1988G&gt;A</td>\n",
       "      <td>A</td>\n",
       "      <td>G</td>\n",
       "      <td>8/102</td>\n",
       "      <td>NO PASS</td>\n",
       "    </tr>\n",
       "    <tr>\n",
       "      <th>4</th>\n",
       "      <td>MYH7</td>\n",
       "      <td>14</td>\n",
       "      <td>23426833</td>\n",
       "      <td>rs56116432</td>\n",
       "      <td>A</td>\n",
       "      <td>G</td>\n",
       "      <td>1/200</td>\n",
       "      <td>NO PASS</td>\n",
       "    </tr>\n",
       "    <tr>\n",
       "      <th>5</th>\n",
       "      <td>MYH7</td>\n",
       "      <td>14</td>\n",
       "      <td>23426833</td>\n",
       "      <td>rs1799966</td>\n",
       "      <td>A</td>\n",
       "      <td>G</td>\n",
       "      <td>14/85</td>\n",
       "      <td>PASS</td>\n",
       "    </tr>\n",
       "  </tbody>\n",
       "</table>\n",
       "</div>"
      ],
      "text/plain": [
       "    Gene CHROM        POS                     ID REF ALT    QUAL   FILTER\n",
       "0  IMPG2     3  101232831  NM_016247.3:c.3183C>G   G   C   34/64     PASS\n",
       "1  BRCA1    17   43067616  NM_007294.3:c.5066T>C   C   T  49/131     PASS\n",
       "2   FBN1    15   48600225   NM_000138.4:c.356G>A   A   G   46/99     PASS\n",
       "3   MYH7    14   23426833  NM_000257.3:c.1988G>A   A   G   8/102  NO PASS\n",
       "4   MYH7    14   23426833             rs56116432   A   G   1/200  NO PASS\n",
       "5   MYH7    14   23426833              rs1799966   A   G   14/85     PASS"
      ]
     },
     "execution_count": 148,
     "metadata": {},
     "output_type": "execute_result"
    }
   ],
   "source": [
    "df_stage1 = pd.DataFrame.from_dict(dict(zip(column_names, [row2gene_symbol, row2CHROM, row2POS,df[\"Transcript\"] ,row2ALT,row2REF, df[\"Quality\"], df[\"Filter\"]  ])))\n",
    "df_stage1"
   ]
  },
  {
   "cell_type": "markdown",
   "metadata": {},
   "source": [
    "# End of stage 1"
   ]
  },
  {
   "cell_type": "code",
   "execution_count": null,
   "metadata": {},
   "outputs": [],
   "source": []
  }
 ],
 "metadata": {
  "kernelspec": {
   "display_name": "Python 3",
   "language": "python",
   "name": "python3"
  },
  "language_info": {
   "codemirror_mode": {
    "name": "ipython",
    "version": 3
   },
   "file_extension": ".py",
   "mimetype": "text/x-python",
   "name": "python",
   "nbconvert_exporter": "python",
   "pygments_lexer": "ipython3",
   "version": "3.8.3"
  }
 },
 "nbformat": 4,
 "nbformat_minor": 4
}
